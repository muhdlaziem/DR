{
  "nbformat": 4,
  "nbformat_minor": 0,
  "metadata": {
    "kernelspec": {
      "name": "python3",
      "display_name": "Python 3"
    },
    "language_info": {
      "codemirror_mode": {
        "name": "ipython",
        "version": 3
      },
      "file_extension": ".py",
      "mimetype": "text/x-python",
      "name": "python",
      "nbconvert_exporter": "python",
      "pygments_lexer": "ipython3",
      "version": "3.6.9"
    },
    "colab": {
      "name": "Training_0x1.ipynb",
      "provenance": [],
      "machine_shape": "hm"
    },
    "accelerator": "GPU"
  },
  "cells": [
    {
      "cell_type": "code",
      "metadata": {
        "id": "8BW2rOQfd9kx",
        "colab_type": "code",
        "colab": {
          "base_uri": "https://localhost:8080/",
          "height": 52
        },
        "outputId": "51dc8dcf-4968-4a1d-9ec7-2db77a3a4fa6"
      },
      "source": [
        "from google.colab import drive\n",
        "drive.mount('/gdrive')\n",
        "%cd /gdrive/'My Drive'/"
      ],
      "execution_count": 1,
      "outputs": [
        {
          "output_type": "stream",
          "text": [
            "Drive already mounted at /gdrive; to attempt to forcibly remount, call drive.mount(\"/gdrive\", force_remount=True).\n",
            "/gdrive/My Drive\n"
          ],
          "name": "stdout"
        }
      ]
    },
    {
      "cell_type": "code",
      "metadata": {
        "id": "UxzrGOcsZTJ9",
        "colab_type": "code",
        "colab": {}
      },
      "source": [
        "import numpy as np"
      ],
      "execution_count": 0,
      "outputs": []
    },
    {
      "cell_type": "code",
      "metadata": {
        "id": "cp0lzQpfZTKW",
        "colab_type": "code",
        "colab": {}
      },
      "source": [
        "trainImages = np.load('./diabetic-retinopathy-resized/0x1/trainImages.npy')\n",
        "testImages = np.load('./diabetic-retinopathy-resized/0x1/testImages.npy')\n",
        "y_train = np.load('./diabetic-retinopathy-resized/0x1/y_train.npy')\n",
        "y_test = np.load('./diabetic-retinopathy-resized/0x1/y_test.npy')"
      ],
      "execution_count": 0,
      "outputs": []
    },
    {
      "cell_type": "code",
      "metadata": {
        "id": "ux_GwMX8ZTKi",
        "colab_type": "code",
        "colab": {
          "base_uri": "https://localhost:8080/",
          "height": 86
        },
        "outputId": "b24dc7c0-b66b-44ae-ad4a-243f95146828"
      },
      "source": [
        "print(trainImages.shape)\n",
        "print(testImages.shape)\n",
        "print(y_train.shape)\n",
        "print(y_test.shape)"
      ],
      "execution_count": 4,
      "outputs": [
        {
          "output_type": "stream",
          "text": [
            "(25650, 256, 256, 3)\n",
            "(6413, 256, 256, 3)\n",
            "(25650, 2)\n",
            "(6413, 2)\n"
          ],
          "name": "stdout"
        }
      ]
    },
    {
      "cell_type": "code",
      "metadata": {
        "id": "0zvMC0sHZTKu",
        "colab_type": "code",
        "colab": {
          "base_uri": "https://localhost:8080/",
          "height": 52
        },
        "outputId": "b28cdfd8-bcf8-4bda-f07b-e7cadd626fcb"
      },
      "source": [
        "print(trainImages.max())\n",
        "print(testImages.max())"
      ],
      "execution_count": 5,
      "outputs": [
        {
          "output_type": "stream",
          "text": [
            "255\n",
            "255\n"
          ],
          "name": "stdout"
        }
      ]
    },
    {
      "cell_type": "code",
      "metadata": {
        "id": "FdlhksgnZTK5",
        "colab_type": "code",
        "colab": {
          "base_uri": "https://localhost:8080/",
          "height": 64
        },
        "outputId": "08ec2fc4-b9ae-4ed4-cc66-ebf7e3cb787e"
      },
      "source": [
        "from tensorflow.keras import datasets, layers, models"
      ],
      "execution_count": 6,
      "outputs": [
        {
          "output_type": "display_data",
          "data": {
            "text/html": [
              "<p style=\"color: red;\">\n",
              "The default version of TensorFlow in Colab will soon switch to TensorFlow 2.x.<br>\n",
              "We recommend you <a href=\"https://www.tensorflow.org/guide/migrate\" target=\"_blank\">upgrade</a> now \n",
              "or ensure your notebook will continue to use TensorFlow 1.x via the <code>%tensorflow_version 1.x</code> magic:\n",
              "<a href=\"https://colab.research.google.com/notebooks/tensorflow_version.ipynb\" target=\"_blank\">more info</a>.</p>\n"
            ],
            "text/plain": [
              "<IPython.core.display.HTML object>"
            ]
          },
          "metadata": {
            "tags": []
          }
        }
      ]
    },
    {
      "cell_type": "code",
      "metadata": {
        "id": "-BTf6EJwZTLC",
        "colab_type": "code",
        "colab": {}
      },
      "source": [
        "def convolutional_model():\n",
        "    \n",
        "    # create model\n",
        "    model = models.Sequential()\n",
        "    model.add(layers.Conv2D(32, (5, 5), strides=(1, 1), activation='relu', input_shape=(256, 256, 3)))\n",
        "    model.add(layers.MaxPooling2D(pool_size=(2, 2), strides=(2, 2), padding='same'))\n",
        "    model.add(layers.Dropout(0.3))\n",
        "\n",
        "    model.add(layers.Conv2D(64, (5,5), strides = (1,1), activation='relu'))\n",
        "    model.add(layers.MaxPooling2D(pool_size = (2,2), strides = (2,2), padding='same'))\n",
        "    model.add(layers.Dropout(0.5))\n",
        "\n",
        "    model.add(layers.Conv2D(128, (5,5), strides = (1,1), activation='relu'))\n",
        "    model.add(layers.MaxPooling2D(pool_size = (2,2), strides = (2,2), padding='same'))\n",
        "    model.add(layers.Dropout(0.3))\n",
        "    \n",
        "    model.add(layers.Flatten())\n",
        "    model.add(layers.Dense(100, activation='relu'))\n",
        "    model.add(layers.Dropout(0.3))\n",
        "    model.add(layers.Dense(2, activation='softmax'))\n",
        "    \n",
        "    model.summary()\n",
        "    model.compile(optimizer='adam', loss='categorical_crossentropy',  metrics=['accuracy'])\n",
        "    \n",
        "    return model"
      ],
      "execution_count": 0,
      "outputs": []
    },
    {
      "cell_type": "code",
      "metadata": {
        "id": "9Wq_OaajZTLK",
        "colab_type": "code",
        "colab": {
          "base_uri": "https://localhost:8080/",
          "height": 680
        },
        "outputId": "88b47dbd-cefe-44af-8f3b-9702d2d426df"
      },
      "source": [
        "model = convolutional_model()"
      ],
      "execution_count": 8,
      "outputs": [
        {
          "output_type": "stream",
          "text": [
            "WARNING:tensorflow:From /usr/local/lib/python3.6/dist-packages/tensorflow_core/python/ops/resource_variable_ops.py:1630: calling BaseResourceVariable.__init__ (from tensorflow.python.ops.resource_variable_ops) with constraint is deprecated and will be removed in a future version.\n",
            "Instructions for updating:\n",
            "If using Keras pass *_constraint arguments to layers.\n",
            "Model: \"sequential\"\n",
            "_________________________________________________________________\n",
            "Layer (type)                 Output Shape              Param #   \n",
            "=================================================================\n",
            "conv2d (Conv2D)              (None, 252, 252, 32)      2432      \n",
            "_________________________________________________________________\n",
            "max_pooling2d (MaxPooling2D) (None, 126, 126, 32)      0         \n",
            "_________________________________________________________________\n",
            "dropout (Dropout)            (None, 126, 126, 32)      0         \n",
            "_________________________________________________________________\n",
            "conv2d_1 (Conv2D)            (None, 122, 122, 64)      51264     \n",
            "_________________________________________________________________\n",
            "max_pooling2d_1 (MaxPooling2 (None, 61, 61, 64)        0         \n",
            "_________________________________________________________________\n",
            "dropout_1 (Dropout)          (None, 61, 61, 64)        0         \n",
            "_________________________________________________________________\n",
            "conv2d_2 (Conv2D)            (None, 57, 57, 128)       204928    \n",
            "_________________________________________________________________\n",
            "max_pooling2d_2 (MaxPooling2 (None, 29, 29, 128)       0         \n",
            "_________________________________________________________________\n",
            "dropout_2 (Dropout)          (None, 29, 29, 128)       0         \n",
            "_________________________________________________________________\n",
            "flatten (Flatten)            (None, 107648)            0         \n",
            "_________________________________________________________________\n",
            "dense (Dense)                (None, 100)               10764900  \n",
            "_________________________________________________________________\n",
            "dropout_3 (Dropout)          (None, 100)               0         \n",
            "_________________________________________________________________\n",
            "dense_1 (Dense)              (None, 2)                 202       \n",
            "=================================================================\n",
            "Total params: 11,023,726\n",
            "Trainable params: 11,023,726\n",
            "Non-trainable params: 0\n",
            "_________________________________________________________________\n"
          ],
          "name": "stdout"
        }
      ]
    },
    {
      "cell_type": "code",
      "metadata": {
        "id": "D1ii7PQAZTLQ",
        "colab_type": "code",
        "colab": {
          "base_uri": "https://localhost:8080/",
          "height": 1000
        },
        "outputId": "8eba0079-c1b7-4c46-9d3f-46ed8d0a652f"
      },
      "source": [
        "model.fit(trainImages, y_train, epochs=50, validation_data=(testImages, y_test))"
      ],
      "execution_count": 9,
      "outputs": [
        {
          "output_type": "stream",
          "text": [
            "Train on 25650 samples, validate on 6413 samples\n",
            "Epoch 1/50\n",
            "25650/25650 [==============================] - 52s 2ms/sample - loss: 1.9774 - acc: 0.7214 - val_loss: 0.5855 - val_acc: 0.7273\n",
            "Epoch 2/50\n",
            "25650/25650 [==============================] - 50s 2ms/sample - loss: 0.5903 - acc: 0.7235 - val_loss: 0.5903 - val_acc: 0.7273\n",
            "Epoch 3/50\n",
            "25650/25650 [==============================] - 50s 2ms/sample - loss: 0.5904 - acc: 0.7235 - val_loss: 0.5857 - val_acc: 0.7273\n",
            "Epoch 4/50\n",
            "25650/25650 [==============================] - 50s 2ms/sample - loss: 0.5898 - acc: 0.7235 - val_loss: 0.5850 - val_acc: 0.7273\n",
            "Epoch 5/50\n",
            "25650/25650 [==============================] - 50s 2ms/sample - loss: 0.5910 - acc: 0.7235 - val_loss: 0.5854 - val_acc: 0.7273\n",
            "Epoch 6/50\n",
            "25650/25650 [==============================] - 50s 2ms/sample - loss: 0.5906 - acc: 0.7235 - val_loss: 0.5858 - val_acc: 0.7273\n",
            "Epoch 7/50\n",
            "25650/25650 [==============================] - 50s 2ms/sample - loss: 0.5900 - acc: 0.7235 - val_loss: 0.5865 - val_acc: 0.7273\n",
            "Epoch 8/50\n",
            "25650/25650 [==============================] - 50s 2ms/sample - loss: 0.5908 - acc: 0.7235 - val_loss: 0.5856 - val_acc: 0.7273\n",
            "Epoch 9/50\n",
            "25650/25650 [==============================] - 50s 2ms/sample - loss: 0.5900 - acc: 0.7235 - val_loss: 0.5861 - val_acc: 0.7273\n",
            "Epoch 10/50\n",
            "25650/25650 [==============================] - 50s 2ms/sample - loss: 0.5900 - acc: 0.7235 - val_loss: 0.5847 - val_acc: 0.7273\n",
            "Epoch 11/50\n",
            "25650/25650 [==============================] - 50s 2ms/sample - loss: 0.5898 - acc: 0.7235 - val_loss: 0.5854 - val_acc: 0.7273\n",
            "Epoch 12/50\n",
            "25650/25650 [==============================] - 50s 2ms/sample - loss: 0.5898 - acc: 0.7235 - val_loss: 0.5857 - val_acc: 0.7273\n",
            "Epoch 13/50\n",
            "25650/25650 [==============================] - 50s 2ms/sample - loss: 0.5895 - acc: 0.7234 - val_loss: 0.5858 - val_acc: 0.7273\n",
            "Epoch 14/50\n",
            "25650/25650 [==============================] - 51s 2ms/sample - loss: 0.5900 - acc: 0.7235 - val_loss: 0.5859 - val_acc: 0.7273\n",
            "Epoch 15/50\n",
            "25650/25650 [==============================] - 51s 2ms/sample - loss: 0.5903 - acc: 0.7233 - val_loss: 0.5859 - val_acc: 0.7273\n",
            "Epoch 16/50\n",
            "25650/25650 [==============================] - 51s 2ms/sample - loss: 0.5889 - acc: 0.7235 - val_loss: 0.5846 - val_acc: 0.7273\n",
            "Epoch 17/50\n",
            "25650/25650 [==============================] - 51s 2ms/sample - loss: 0.5893 - acc: 0.7235 - val_loss: 0.5859 - val_acc: 0.7273\n",
            "Epoch 18/50\n",
            "25650/25650 [==============================] - 50s 2ms/sample - loss: 0.5895 - acc: 0.7235 - val_loss: 0.5846 - val_acc: 0.7273\n",
            "Epoch 19/50\n",
            "25650/25650 [==============================] - 51s 2ms/sample - loss: 0.5895 - acc: 0.7235 - val_loss: 0.5852 - val_acc: 0.7273\n",
            "Epoch 20/50\n",
            "25650/25650 [==============================] - 51s 2ms/sample - loss: 0.5887 - acc: 0.7235 - val_loss: 0.5841 - val_acc: 0.7273\n",
            "Epoch 21/50\n",
            "25650/25650 [==============================] - 51s 2ms/sample - loss: 0.5901 - acc: 0.7233 - val_loss: 0.5859 - val_acc: 0.7273\n",
            "Epoch 22/50\n",
            "25650/25650 [==============================] - 51s 2ms/sample - loss: 0.5898 - acc: 0.7234 - val_loss: 0.5859 - val_acc: 0.7273\n",
            "Epoch 23/50\n",
            "25650/25650 [==============================] - 50s 2ms/sample - loss: 0.5893 - acc: 0.7235 - val_loss: 0.5850 - val_acc: 0.7273\n",
            "Epoch 24/50\n",
            "25650/25650 [==============================] - 50s 2ms/sample - loss: 0.5886 - acc: 0.7233 - val_loss: 0.5848 - val_acc: 0.7273\n",
            "Epoch 25/50\n",
            "25650/25650 [==============================] - 50s 2ms/sample - loss: 0.5882 - acc: 0.7235 - val_loss: 0.5843 - val_acc: 0.7273\n",
            "Epoch 26/50\n",
            "25650/25650 [==============================] - 50s 2ms/sample - loss: 0.5888 - acc: 0.7235 - val_loss: 0.5849 - val_acc: 0.7273\n",
            "Epoch 27/50\n",
            "25650/25650 [==============================] - 50s 2ms/sample - loss: 0.5889 - acc: 0.7231 - val_loss: 0.5846 - val_acc: 0.7273\n",
            "Epoch 28/50\n",
            "25650/25650 [==============================] - 50s 2ms/sample - loss: 0.5875 - acc: 0.7235 - val_loss: 0.5826 - val_acc: 0.7273\n",
            "Epoch 29/50\n",
            "25650/25650 [==============================] - 50s 2ms/sample - loss: 0.5875 - acc: 0.7239 - val_loss: 0.5823 - val_acc: 0.7273\n",
            "Epoch 30/50\n",
            "25650/25650 [==============================] - 50s 2ms/sample - loss: 0.5868 - acc: 0.7236 - val_loss: 0.5832 - val_acc: 0.7273\n",
            "Epoch 31/50\n",
            "25650/25650 [==============================] - 50s 2ms/sample - loss: 0.5860 - acc: 0.7241 - val_loss: 0.5836 - val_acc: 0.7274\n",
            "Epoch 32/50\n",
            "25650/25650 [==============================] - 50s 2ms/sample - loss: 0.5875 - acc: 0.7237 - val_loss: 0.5836 - val_acc: 0.7271\n",
            "Epoch 33/50\n",
            "25650/25650 [==============================] - 50s 2ms/sample - loss: 0.5851 - acc: 0.7243 - val_loss: 0.5822 - val_acc: 0.7271\n",
            "Epoch 34/50\n",
            "25650/25650 [==============================] - 50s 2ms/sample - loss: 0.5859 - acc: 0.7239 - val_loss: 0.5810 - val_acc: 0.7281\n",
            "Epoch 35/50\n",
            "25650/25650 [==============================] - 50s 2ms/sample - loss: 0.5839 - acc: 0.7243 - val_loss: 0.5827 - val_acc: 0.7271\n",
            "Epoch 36/50\n",
            "25650/25650 [==============================] - 50s 2ms/sample - loss: 0.5837 - acc: 0.7238 - val_loss: 0.5829 - val_acc: 0.7271\n",
            "Epoch 37/50\n",
            "25650/25650 [==============================] - 50s 2ms/sample - loss: 0.5832 - acc: 0.7253 - val_loss: 0.5802 - val_acc: 0.7279\n",
            "Epoch 38/50\n",
            "25650/25650 [==============================] - 50s 2ms/sample - loss: 0.5834 - acc: 0.7244 - val_loss: 0.5807 - val_acc: 0.7274\n",
            "Epoch 39/50\n",
            "25650/25650 [==============================] - 50s 2ms/sample - loss: 0.5832 - acc: 0.7238 - val_loss: 0.5813 - val_acc: 0.7246\n",
            "Epoch 40/50\n",
            "25650/25650 [==============================] - 50s 2ms/sample - loss: 0.5832 - acc: 0.7243 - val_loss: 0.5805 - val_acc: 0.7279\n",
            "Epoch 41/50\n",
            "25650/25650 [==============================] - 50s 2ms/sample - loss: 0.5823 - acc: 0.7232 - val_loss: 0.5794 - val_acc: 0.7288\n",
            "Epoch 42/50\n",
            "25650/25650 [==============================] - 50s 2ms/sample - loss: 0.5812 - acc: 0.7246 - val_loss: 0.5802 - val_acc: 0.7263\n",
            "Epoch 43/50\n",
            "25650/25650 [==============================] - 50s 2ms/sample - loss: 0.5820 - acc: 0.7240 - val_loss: 0.5794 - val_acc: 0.7277\n",
            "Epoch 44/50\n",
            "25650/25650 [==============================] - 50s 2ms/sample - loss: 0.5812 - acc: 0.7242 - val_loss: 0.5781 - val_acc: 0.7274\n",
            "Epoch 45/50\n",
            "25650/25650 [==============================] - 50s 2ms/sample - loss: 0.5805 - acc: 0.7236 - val_loss: 0.5791 - val_acc: 0.7273\n",
            "Epoch 46/50\n",
            "25650/25650 [==============================] - 50s 2ms/sample - loss: 0.5802 - acc: 0.7246 - val_loss: 0.5792 - val_acc: 0.7276\n",
            "Epoch 47/50\n",
            "25650/25650 [==============================] - 50s 2ms/sample - loss: 0.5817 - acc: 0.7250 - val_loss: 0.5803 - val_acc: 0.7274\n",
            "Epoch 48/50\n",
            "25650/25650 [==============================] - 51s 2ms/sample - loss: 0.5799 - acc: 0.7239 - val_loss: 0.5796 - val_acc: 0.7290\n",
            "Epoch 49/50\n",
            "25650/25650 [==============================] - 51s 2ms/sample - loss: 0.5804 - acc: 0.7247 - val_loss: 0.5778 - val_acc: 0.7287\n",
            "Epoch 50/50\n",
            "25650/25650 [==============================] - 51s 2ms/sample - loss: 0.5809 - acc: 0.7241 - val_loss: 0.5759 - val_acc: 0.7288\n"
          ],
          "name": "stdout"
        },
        {
          "output_type": "execute_result",
          "data": {
            "text/plain": [
              "<tensorflow.python.keras.callbacks.History at 0x7f51a46ac198>"
            ]
          },
          "metadata": {
            "tags": []
          },
          "execution_count": 9
        }
      ]
    },
    {
      "cell_type": "code",
      "metadata": {
        "id": "lkPTmCSkdOEX",
        "colab_type": "code",
        "colab": {
          "base_uri": "https://localhost:8080/",
          "height": 52
        },
        "outputId": "b9614128-ea24-4de6-eee0-0af3af6e58ae"
      },
      "source": [
        "scores = model.evaluate(testImages, y_test, verbose=0)\n",
        "print('Accuracy: {}% \\n Error: {}'.format(scores[1], 1 - scores[1])) "
      ],
      "execution_count": 10,
      "outputs": [
        {
          "output_type": "stream",
          "text": [
            "Accuracy: 0.7288320660591125% \n",
            " Error: 0.27116793394088745\n"
          ],
          "name": "stdout"
        }
      ]
    },
    {
      "cell_type": "code",
      "metadata": {
        "id": "x7GkOIoueMWf",
        "colab_type": "code",
        "colab": {
          "base_uri": "https://localhost:8080/",
          "height": 52
        },
        "outputId": "a2cbb820-fb17-4dad-ad53-4bdc1a41c37e"
      },
      "source": [
        "from sklearn import metrics\n",
        "y_pred = model.predict(testImages)\n",
        "matrix = metrics.confusion_matrix(y_test.argmax(axis=1), y_pred.argmax(axis=1))\n",
        "matrix"
      ],
      "execution_count": 11,
      "outputs": [
        {
          "output_type": "execute_result",
          "data": {
            "text/plain": [
              "array([[4647,   17],\n",
              "       [1722,   27]])"
            ]
          },
          "metadata": {
            "tags": []
          },
          "execution_count": 11
        }
      ]
    },
    {
      "cell_type": "code",
      "metadata": {
        "id": "8HRPUBPgdVJH",
        "colab_type": "code",
        "colab": {
          "base_uri": "https://localhost:8080/",
          "height": 34
        },
        "outputId": "af10d38a-87b9-4a53-b20b-1e786f4310ff"
      },
      "source": [
        "model.save(\"training_0x1_1.h5\")\n",
        "print(\"Saved model to disk\")"
      ],
      "execution_count": 12,
      "outputs": [
        {
          "output_type": "stream",
          "text": [
            "Saved model to disk\n"
          ],
          "name": "stdout"
        }
      ]
    },
    {
      "cell_type": "code",
      "metadata": {
        "id": "WaxrmD-ChGE8",
        "colab_type": "code",
        "colab": {}
      },
      "source": [
        ""
      ],
      "execution_count": 0,
      "outputs": []
    }
  ]
}
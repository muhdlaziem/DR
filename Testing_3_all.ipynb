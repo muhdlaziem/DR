{
  "nbformat": 4,
  "nbformat_minor": 0,
  "metadata": {
    "colab": {
      "name": "Testing_3_all.ipynb",
      "provenance": [],
      "collapsed_sections": [],
      "authorship_tag": "ABX9TyMx4ZKs/r+yKZMq0C4br5r/",
      "include_colab_link": true
    },
    "kernelspec": {
      "name": "python3",
      "display_name": "Python 3"
    },
    "accelerator": "GPU",
    "widgets": {
      "application/vnd.jupyter.widget-state+json": {
        "492615fe631f44e5bf68eae61d5766b2": {
          "model_module": "@jupyter-widgets/controls",
          "model_name": "HBoxModel",
          "state": {
            "_view_name": "HBoxView",
            "_dom_classes": [],
            "_model_name": "HBoxModel",
            "_view_module": "@jupyter-widgets/controls",
            "_model_module_version": "1.5.0",
            "_view_count": null,
            "_view_module_version": "1.5.0",
            "box_style": "",
            "layout": "IPY_MODEL_8c2925b99e774a3382d022cd9db0dfb7",
            "_model_module": "@jupyter-widgets/controls",
            "children": [
              "IPY_MODEL_e2c56427f68e40aebf3b4ae134c54224",
              "IPY_MODEL_f4d8665bcf81471d8ff48b9105dbf68d"
            ]
          }
        },
        "8c2925b99e774a3382d022cd9db0dfb7": {
          "model_module": "@jupyter-widgets/base",
          "model_name": "LayoutModel",
          "state": {
            "_view_name": "LayoutView",
            "grid_template_rows": null,
            "right": null,
            "justify_content": null,
            "_view_module": "@jupyter-widgets/base",
            "overflow": null,
            "_model_module_version": "1.2.0",
            "_view_count": null,
            "flex_flow": null,
            "width": null,
            "min_width": null,
            "border": null,
            "align_items": null,
            "bottom": null,
            "_model_module": "@jupyter-widgets/base",
            "top": null,
            "grid_column": null,
            "overflow_y": null,
            "overflow_x": null,
            "grid_auto_flow": null,
            "grid_area": null,
            "grid_template_columns": null,
            "flex": null,
            "_model_name": "LayoutModel",
            "justify_items": null,
            "grid_row": null,
            "max_height": null,
            "align_content": null,
            "visibility": null,
            "align_self": null,
            "height": null,
            "min_height": null,
            "padding": null,
            "grid_auto_rows": null,
            "grid_gap": null,
            "max_width": null,
            "order": null,
            "_view_module_version": "1.2.0",
            "grid_template_areas": null,
            "object_position": null,
            "object_fit": null,
            "grid_auto_columns": null,
            "margin": null,
            "display": null,
            "left": null
          }
        },
        "e2c56427f68e40aebf3b4ae134c54224": {
          "model_module": "@jupyter-widgets/controls",
          "model_name": "FloatProgressModel",
          "state": {
            "_view_name": "ProgressView",
            "style": "IPY_MODEL_480e858b19864bf28650b5caede9df1d",
            "_dom_classes": [],
            "description": "100%",
            "_model_name": "FloatProgressModel",
            "bar_style": "success",
            "max": 60,
            "_view_module": "@jupyter-widgets/controls",
            "_model_module_version": "1.5.0",
            "value": 60,
            "_view_count": null,
            "_view_module_version": "1.5.0",
            "orientation": "horizontal",
            "min": 0,
            "description_tooltip": null,
            "_model_module": "@jupyter-widgets/controls",
            "layout": "IPY_MODEL_de3695557bfd4fb592a862a5b4e204fa"
          }
        },
        "f4d8665bcf81471d8ff48b9105dbf68d": {
          "model_module": "@jupyter-widgets/controls",
          "model_name": "HTMLModel",
          "state": {
            "_view_name": "HTMLView",
            "style": "IPY_MODEL_82e50e214f444459ab16eb520c02eac7",
            "_dom_classes": [],
            "description": "",
            "_model_name": "HTMLModel",
            "placeholder": "​",
            "_view_module": "@jupyter-widgets/controls",
            "_model_module_version": "1.5.0",
            "value": " 60/60 [00:16&lt;00:00,  3.67it/s]",
            "_view_count": null,
            "_view_module_version": "1.5.0",
            "description_tooltip": null,
            "_model_module": "@jupyter-widgets/controls",
            "layout": "IPY_MODEL_ed55ffea48e84aa5bf50eccdbf092d1d"
          }
        },
        "480e858b19864bf28650b5caede9df1d": {
          "model_module": "@jupyter-widgets/controls",
          "model_name": "ProgressStyleModel",
          "state": {
            "_view_name": "StyleView",
            "_model_name": "ProgressStyleModel",
            "description_width": "initial",
            "_view_module": "@jupyter-widgets/base",
            "_model_module_version": "1.5.0",
            "_view_count": null,
            "_view_module_version": "1.2.0",
            "bar_color": null,
            "_model_module": "@jupyter-widgets/controls"
          }
        },
        "de3695557bfd4fb592a862a5b4e204fa": {
          "model_module": "@jupyter-widgets/base",
          "model_name": "LayoutModel",
          "state": {
            "_view_name": "LayoutView",
            "grid_template_rows": null,
            "right": null,
            "justify_content": null,
            "_view_module": "@jupyter-widgets/base",
            "overflow": null,
            "_model_module_version": "1.2.0",
            "_view_count": null,
            "flex_flow": null,
            "width": null,
            "min_width": null,
            "border": null,
            "align_items": null,
            "bottom": null,
            "_model_module": "@jupyter-widgets/base",
            "top": null,
            "grid_column": null,
            "overflow_y": null,
            "overflow_x": null,
            "grid_auto_flow": null,
            "grid_area": null,
            "grid_template_columns": null,
            "flex": null,
            "_model_name": "LayoutModel",
            "justify_items": null,
            "grid_row": null,
            "max_height": null,
            "align_content": null,
            "visibility": null,
            "align_self": null,
            "height": null,
            "min_height": null,
            "padding": null,
            "grid_auto_rows": null,
            "grid_gap": null,
            "max_width": null,
            "order": null,
            "_view_module_version": "1.2.0",
            "grid_template_areas": null,
            "object_position": null,
            "object_fit": null,
            "grid_auto_columns": null,
            "margin": null,
            "display": null,
            "left": null
          }
        },
        "82e50e214f444459ab16eb520c02eac7": {
          "model_module": "@jupyter-widgets/controls",
          "model_name": "DescriptionStyleModel",
          "state": {
            "_view_name": "StyleView",
            "_model_name": "DescriptionStyleModel",
            "description_width": "",
            "_view_module": "@jupyter-widgets/base",
            "_model_module_version": "1.5.0",
            "_view_count": null,
            "_view_module_version": "1.2.0",
            "_model_module": "@jupyter-widgets/controls"
          }
        },
        "ed55ffea48e84aa5bf50eccdbf092d1d": {
          "model_module": "@jupyter-widgets/base",
          "model_name": "LayoutModel",
          "state": {
            "_view_name": "LayoutView",
            "grid_template_rows": null,
            "right": null,
            "justify_content": null,
            "_view_module": "@jupyter-widgets/base",
            "overflow": null,
            "_model_module_version": "1.2.0",
            "_view_count": null,
            "flex_flow": null,
            "width": null,
            "min_width": null,
            "border": null,
            "align_items": null,
            "bottom": null,
            "_model_module": "@jupyter-widgets/base",
            "top": null,
            "grid_column": null,
            "overflow_y": null,
            "overflow_x": null,
            "grid_auto_flow": null,
            "grid_area": null,
            "grid_template_columns": null,
            "flex": null,
            "_model_name": "LayoutModel",
            "justify_items": null,
            "grid_row": null,
            "max_height": null,
            "align_content": null,
            "visibility": null,
            "align_self": null,
            "height": null,
            "min_height": null,
            "padding": null,
            "grid_auto_rows": null,
            "grid_gap": null,
            "max_width": null,
            "order": null,
            "_view_module_version": "1.2.0",
            "grid_template_areas": null,
            "object_position": null,
            "object_fit": null,
            "grid_auto_columns": null,
            "margin": null,
            "display": null,
            "left": null
          }
        }
      }
    }
  },
  "cells": [
    {
      "cell_type": "markdown",
      "metadata": {
        "id": "view-in-github",
        "colab_type": "text"
      },
      "source": [
        "<a href=\"https://colab.research.google.com/github/muhdlaziem/DR/blob/master/Testing_3_all.ipynb\" target=\"_parent\"><img src=\"https://colab.research.google.com/assets/colab-badge.svg\" alt=\"Open In Colab\"/></a>"
      ]
    },
    {
      "cell_type": "code",
      "metadata": {
        "id": "uwQMdV0Sd4vs",
        "colab_type": "code",
        "colab": {
          "base_uri": "https://localhost:8080/",
          "height": 139
        },
        "outputId": "a782eeda-7abf-4f71-b1ef-28aa45b3c0c2"
      },
      "source": [
        "from google.colab import drive\n",
        "drive.mount('/gdrive')\n",
        "%cd /gdrive/'My Drive'/"
      ],
      "execution_count": null,
      "outputs": [
        {
          "output_type": "stream",
          "text": [
            "Go to this URL in a browser: https://accounts.google.com/o/oauth2/auth?client_id=947318989803-6bn6qk8qdgf4n4g3pfee6491hc0brc4i.apps.googleusercontent.com&redirect_uri=urn%3aietf%3awg%3aoauth%3a2.0%3aoob&scope=email%20https%3a%2f%2fwww.googleapis.com%2fauth%2fdocs.test%20https%3a%2f%2fwww.googleapis.com%2fauth%2fdrive%20https%3a%2f%2fwww.googleapis.com%2fauth%2fdrive.photos.readonly%20https%3a%2f%2fwww.googleapis.com%2fauth%2fpeopleapi.readonly&response_type=code\n",
            "\n",
            "Enter your authorization code:\n",
            "··········\n",
            "Mounted at /gdrive\n",
            "/gdrive/My Drive\n"
          ],
          "name": "stdout"
        }
      ]
    },
    {
      "cell_type": "code",
      "metadata": {
        "id": "QatZcipbeQrN",
        "colab_type": "code",
        "colab": {
          "base_uri": "https://localhost:8080/",
          "height": 51
        },
        "outputId": "fca06246-68c7-4ae7-961b-9b6591a2cbdc"
      },
      "source": [
        "%tensorflow_version 1.x\n",
        "\n",
        "# import libraries\n",
        "import json\n",
        "import math\n",
        "from tqdm import tqdm, tqdm_notebook\n",
        "import gc\n",
        "import warnings\n",
        "import os\n",
        "\n",
        "import cv2\n",
        "from PIL import Image\n",
        "\n",
        "import pandas as pd\n",
        "import scipy\n",
        "import matplotlib.pyplot as plt\n",
        "\n",
        "from keras import backend as K\n",
        "from keras import layers\n",
        "from keras.applications.densenet import DenseNet121\n",
        "from keras.callbacks import Callback, ModelCheckpoint\n",
        "from keras.preprocessing.image import ImageDataGenerator\n",
        "from keras.models import Sequential\n",
        "from keras.optimizers import Adam\n",
        "\n",
        "from sklearn.model_selection import train_test_split\n",
        "from sklearn.metrics import cohen_kappa_score, accuracy_score\n",
        "import numpy as np\n",
        "\n",
        "warnings.filterwarnings(\"ignore\")\n",
        "\n",
        "%matplotlib inline"
      ],
      "execution_count": null,
      "outputs": [
        {
          "output_type": "stream",
          "text": [
            "TensorFlow 1.x selected.\n"
          ],
          "name": "stdout"
        },
        {
          "output_type": "stream",
          "text": [
            "Using TensorFlow backend.\n"
          ],
          "name": "stderr"
        }
      ]
    },
    {
      "cell_type": "code",
      "metadata": {
        "id": "QXb0Y8cBeW2y",
        "colab_type": "code",
        "colab": {}
      },
      "source": [
        "# Image size\n",
        "im_size = 320"
      ],
      "execution_count": null,
      "outputs": []
    },
    {
      "cell_type": "code",
      "metadata": {
        "id": "SGrUw1LcenL6",
        "colab_type": "code",
        "colab": {
          "base_uri": "https://localhost:8080/",
          "height": 204
        },
        "outputId": "edc2a61a-6922-4e50-8c30-1b61db075a3b"
      },
      "source": [
        "import pandas as pd\n",
        "# %cd diabetic-retinopathy-resized/\n",
        "DR = pd.read_csv('/gdrive/My Drive/diabetic-retinopathy-resized/MadamAmeliaSample/label_for_out_MYRRC_data2_256x256.csv')\n",
        "DR.head()"
      ],
      "execution_count": null,
      "outputs": [
        {
          "output_type": "execute_result",
          "data": {
            "text/html": [
              "<div>\n",
              "<style scoped>\n",
              "    .dataframe tbody tr th:only-of-type {\n",
              "        vertical-align: middle;\n",
              "    }\n",
              "\n",
              "    .dataframe tbody tr th {\n",
              "        vertical-align: top;\n",
              "    }\n",
              "\n",
              "    .dataframe thead th {\n",
              "        text-align: right;\n",
              "    }\n",
              "</style>\n",
              "<table border=\"1\" class=\"dataframe\">\n",
              "  <thead>\n",
              "    <tr style=\"text-align: right;\">\n",
              "      <th></th>\n",
              "      <th>file</th>\n",
              "      <th>class</th>\n",
              "    </tr>\n",
              "  </thead>\n",
              "  <tbody>\n",
              "    <tr>\n",
              "      <th>0</th>\n",
              "      <td>00000.jpg</td>\n",
              "      <td>0</td>\n",
              "    </tr>\n",
              "    <tr>\n",
              "      <th>1</th>\n",
              "      <td>00001.jpg</td>\n",
              "      <td>0</td>\n",
              "    </tr>\n",
              "    <tr>\n",
              "      <th>2</th>\n",
              "      <td>00002.jpg</td>\n",
              "      <td>0</td>\n",
              "    </tr>\n",
              "    <tr>\n",
              "      <th>3</th>\n",
              "      <td>00003.jpg</td>\n",
              "      <td>0</td>\n",
              "    </tr>\n",
              "    <tr>\n",
              "      <th>4</th>\n",
              "      <td>00004.jpg</td>\n",
              "      <td>0</td>\n",
              "    </tr>\n",
              "  </tbody>\n",
              "</table>\n",
              "</div>"
            ],
            "text/plain": [
              "        file  class\n",
              "0  00000.jpg      0\n",
              "1  00001.jpg      0\n",
              "2  00002.jpg      0\n",
              "3  00003.jpg      0\n",
              "4  00004.jpg      0"
            ]
          },
          "metadata": {
            "tags": []
          },
          "execution_count": 4
        }
      ]
    },
    {
      "cell_type": "code",
      "metadata": {
        "id": "H02gZx8SeqFS",
        "colab_type": "code",
        "colab": {}
      },
      "source": [
        "def preprocess_image(image_path, desired_size=224):\n",
        "    img = cv2.imread(image_path)\n",
        "    img = cv2.cvtColor(img, cv2.COLOR_BGR2RGB)\n",
        "    #img = crop_image_from_gray(img)\n",
        "    img = cv2.resize(img, (desired_size,desired_size))\n",
        "    img = cv2.addWeighted(img,4,cv2.GaussianBlur(img, (0,0), desired_size/40) ,-4 ,128)\n",
        "    \n",
        "    return img"
      ],
      "execution_count": null,
      "outputs": []
    },
    {
      "cell_type": "code",
      "metadata": {
        "id": "gMgxGgOoe7cP",
        "colab_type": "code",
        "colab": {
          "base_uri": "https://localhost:8080/",
          "height": 83,
          "referenced_widgets": [
            "492615fe631f44e5bf68eae61d5766b2",
            "8c2925b99e774a3382d022cd9db0dfb7",
            "e2c56427f68e40aebf3b4ae134c54224",
            "f4d8665bcf81471d8ff48b9105dbf68d",
            "480e858b19864bf28650b5caede9df1d",
            "de3695557bfd4fb592a862a5b4e204fa",
            "82e50e214f444459ab16eb520c02eac7",
            "ed55ffea48e84aa5bf50eccdbf092d1d"
          ]
        },
        "outputId": "7a8ac52c-1c74-45e9-f075-40cd9a22f691"
      },
      "source": [
        "# testing set\n",
        "%cd /gdrive/My Drive/diabetic-retinopathy-resized/MadamAmeliaSample/image\n",
        "N = DR.shape[0]\n",
        "x_test = np.empty((N, im_size, im_size, 3), dtype=np.uint8)\n",
        "\n",
        "for i, image_id in enumerate(tqdm_notebook(DR['file'])):\n",
        "    x_test[i, :, :, :] = preprocess_image(\n",
        "        f'{image_id}',\n",
        "        desired_size = im_size\n",
        "    )"
      ],
      "execution_count": null,
      "outputs": [
        {
          "output_type": "stream",
          "text": [
            "/gdrive/My Drive/diabetic-retinopathy-resized/MadamAmeliaSample/image\n"
          ],
          "name": "stdout"
        },
        {
          "output_type": "display_data",
          "data": {
            "application/vnd.jupyter.widget-view+json": {
              "model_id": "492615fe631f44e5bf68eae61d5766b2",
              "version_minor": 0,
              "version_major": 2
            },
            "text/plain": [
              "HBox(children=(FloatProgress(value=0.0, max=60.0), HTML(value='')))"
            ]
          },
          "metadata": {
            "tags": []
          }
        },
        {
          "output_type": "stream",
          "text": [
            "\n"
          ],
          "name": "stdout"
        }
      ]
    },
    {
      "cell_type": "code",
      "metadata": {
        "id": "RptEfGktfMLZ",
        "colab_type": "code",
        "colab": {
          "base_uri": "https://localhost:8080/",
          "height": 51
        },
        "outputId": "eab9e4dd-65cc-4067-8fab-36f55f4c8f7c"
      },
      "source": [
        "y_test = pd.get_dummies(DR['class']).values\n",
        "\n",
        "print(y_test.shape)\n",
        "print(x_test.shape)"
      ],
      "execution_count": null,
      "outputs": [
        {
          "output_type": "stream",
          "text": [
            "(60, 3)\n",
            "(60, 320, 320, 3)\n"
          ],
          "name": "stdout"
        }
      ]
    },
    {
      "cell_type": "code",
      "metadata": {
        "id": "XuLZZGFIfXai",
        "colab_type": "code",
        "colab": {
          "base_uri": "https://localhost:8080/",
          "height": 34
        },
        "outputId": "a7dc0f3a-2c02-4d1c-9fe6-889a6747b646"
      },
      "source": [
        "y_test_multi = np.empty(y_test.shape, dtype=y_test.dtype)\n",
        "y_test_multi[:, 2] = y_test[:, 2]\n",
        "\n",
        "for i in range(1, -1, -1):\n",
        "    y_test_multi[:, i] = np.logical_or(y_test[:, i], y_test_multi[:, i+1])\n",
        "\n",
        "print(\"Y_test multi: {}\".format(y_test_multi.shape))"
      ],
      "execution_count": null,
      "outputs": [
        {
          "output_type": "stream",
          "text": [
            "Y_test multi: (60, 3)\n"
          ],
          "name": "stdout"
        }
      ]
    },
    {
      "cell_type": "code",
      "metadata": {
        "id": "ekC2KUd3fuLO",
        "colab_type": "code",
        "colab": {
          "base_uri": "https://localhost:8080/",
          "height": 411
        },
        "outputId": "05366b46-9ab1-4bbd-86a2-b9af901519ae"
      },
      "source": [
        "# from keras.models import load_model\n",
        "import tensorflow as tf\n",
        "\n",
        "model = tf.keras.models.load_model('/gdrive/My Drive/diabetic-retinopathy-resized/resized_train_cropped/denseNet_3_all.h5')\n",
        "model.summary()"
      ],
      "execution_count": null,
      "outputs": [
        {
          "output_type": "stream",
          "text": [
            "WARNING:tensorflow:From /tensorflow-1.15.2/python3.6/tensorflow_core/python/ops/resource_variable_ops.py:1630: calling BaseResourceVariable.__init__ (from tensorflow.python.ops.resource_variable_ops) with constraint is deprecated and will be removed in a future version.\n",
            "Instructions for updating:\n",
            "If using Keras pass *_constraint arguments to layers.\n",
            "WARNING:tensorflow:From /tensorflow-1.15.2/python3.6/tensorflow_core/python/ops/nn_impl.py:183: where (from tensorflow.python.ops.array_ops) is deprecated and will be removed in a future version.\n",
            "Instructions for updating:\n",
            "Use tf.where in 2.0, which has the same broadcast rule as np.where\n",
            "Model: \"sequential_1\"\n",
            "_________________________________________________________________\n",
            "Layer (type)                 Output Shape              Param #   \n",
            "=================================================================\n",
            "densenet121 (Model)          (None, 10, 10, 1024)      7037504   \n",
            "_________________________________________________________________\n",
            "global_average_pooling2d_1 ( (None, 1024)              0         \n",
            "_________________________________________________________________\n",
            "dropout_1 (Dropout)          (None, 1024)              0         \n",
            "_________________________________________________________________\n",
            "dense_1 (Dense)              (None, 3)                 3075      \n",
            "=================================================================\n",
            "Total params: 7,040,579\n",
            "Trainable params: 6,956,931\n",
            "Non-trainable params: 83,648\n",
            "_________________________________________________________________\n"
          ],
          "name": "stdout"
        }
      ]
    },
    {
      "cell_type": "code",
      "metadata": {
        "id": "MtNqaYX5f8uk",
        "colab_type": "code",
        "colab": {}
      },
      "source": [
        "y_val_pred = model.predict(x_test)                                                                        "
      ],
      "execution_count": null,
      "outputs": []
    },
    {
      "cell_type": "code",
      "metadata": {
        "id": "jnTBZqdlvtiE",
        "colab_type": "code",
        "colab": {
          "base_uri": "https://localhost:8080/",
          "height": 68
        },
        "outputId": "b4fcaf21-00ba-45f4-ffec-351e51a465e2"
      },
      "source": [
        "def compute_score_inv(threshold):\n",
        "    y1 = y_val_pred > threshold\n",
        "    y1 = y1.astype(int).sum(axis=1) - 1\n",
        "    y2 = y_test_multi.sum(axis=1) - 1\n",
        "    score = cohen_kappa_score(y1, y2, weights='quadratic')\n",
        "    \n",
        "    return 1 - score\n",
        "\n",
        "simplex = scipy.optimize.minimize(\n",
        "    compute_score_inv, 0.5, method='nelder-mead'\n",
        ")\n",
        "\n",
        "best_threshold = simplex['x'][0]\n",
        "\n",
        "y1 = y_val_pred > best_threshold\n",
        "y1 = y1.astype(int).sum(axis=1) - 1\n",
        "# y1 = np.where(y1==2,1,y1)\n",
        "# y1 = np.where(y1==3,2,y1)\n",
        "# y1 = np.where(y1==4,2,y1)\n",
        "\n",
        "y2 = y_test_multi.sum(axis=1) - 1\n",
        "score = cohen_kappa_score(y1, y2, weights='quadratic')\n",
        "print('Threshold: {}'.format(best_threshold))\n",
        "print('Validation QWK score with best_threshold: {}'.format(score))\n",
        "\n",
        "y1 = y_val_pred > .5\n",
        "y1 = y1.astype(int).sum(axis=1) - 1\n",
        "# y1 = np.where(y1==2,1,y1)\n",
        "# y1 = np.where(y1==3,2,y1)\n",
        "# y1 = np.where(y1==4,2,y1)\n",
        "score = cohen_kappa_score(y1, y2, weights='quadratic')\n",
        "print('Validation QWK score with .5 threshold: {}'.format(score))"
      ],
      "execution_count": null,
      "outputs": [
        {
          "output_type": "stream",
          "text": [
            "Threshold: 0.5\n",
            "Validation QWK score with best_threshold: 0.8205128205128205\n",
            "Validation QWK score with .5 threshold: 0.8205128205128205\n"
          ],
          "name": "stdout"
        }
      ]
    },
    {
      "cell_type": "code",
      "metadata": {
        "id": "g84dMAK1xHhY",
        "colab_type": "code",
        "colab": {
          "base_uri": "https://localhost:8080/",
          "height": 272
        },
        "outputId": "d1d92ebf-3d44-4f70-d24e-df8d6bcc8840"
      },
      "source": [
        "from sklearn.metrics import classification_report, confusion_matrix\n",
        "y_best = y_val_pred > best_threshold\n",
        "y_best = y_best.astype(int).sum(axis=1) - 1\n",
        "# y_best = np.where(y_best==2,1,y_best)\n",
        "# y_best = np.where(y_best==3,2,y_best)\n",
        "# y_best = np.where(y_best==4,2,y_best)\n",
        "\n",
        "print('Confusion Matrix')\n",
        "print(confusion_matrix(y_best, y2))\n",
        "print('Classification Report')\n",
        "target_names = ['No DR', 'Moderate', 'Severe']\n",
        "print(classification_report(y_best, y2, target_names=target_names))"
      ],
      "execution_count": null,
      "outputs": [
        {
          "output_type": "stream",
          "text": [
            "Confusion Matrix\n",
            "[[17  3  1]\n",
            " [ 3 16  3]\n",
            " [ 0  1 16]]\n",
            "Classification Report\n",
            "              precision    recall  f1-score   support\n",
            "\n",
            "       No DR       0.85      0.81      0.83        21\n",
            "    Moderate       0.80      0.73      0.76        22\n",
            "      Severe       0.80      0.94      0.86        17\n",
            "\n",
            "    accuracy                           0.82        60\n",
            "   macro avg       0.82      0.83      0.82        60\n",
            "weighted avg       0.82      0.82      0.81        60\n",
            "\n"
          ],
          "name": "stdout"
        }
      ]
    },
    {
      "cell_type": "code",
      "metadata": {
        "id": "asLnNiVF2ILF",
        "colab_type": "code",
        "colab": {
          "base_uri": "https://localhost:8080/",
          "height": 85
        },
        "outputId": "d63d7733-071f-4084-f4a1-98dec596f035"
      },
      "source": [
        "print(y_best)\n",
        "print(y2)"
      ],
      "execution_count": null,
      "outputs": [
        {
          "output_type": "stream",
          "text": [
            "[0 0 0 0 0 0 0 1 1 0 0 0 0 0 1 0 0 0 0 0 1 2 1 1 0 1 1 1 0 1 1 0 1 1 1 1 1\n",
            " 1 1 1 2 2 2 2 2 0 2 2 1 1 2 2 2 2 2 2 1 2 2 2]\n",
            "[0 0 0 0 0 0 0 0 0 0 0 0 0 0 0 0 0 0 0 0 1 1 1 1 1 1 1 1 1 1 1 1 1 1 1 1 1\n",
            " 1 1 1 2 2 2 2 2 2 2 2 2 2 2 2 2 2 2 2 2 2 2 2]\n"
          ],
          "name": "stdout"
        }
      ]
    },
    {
      "cell_type": "code",
      "metadata": {
        "id": "AsuxDfpbfbA8",
        "colab_type": "code",
        "colab": {}
      },
      "source": [
        "DR['predicted'] = y_best\n",
        "DR.to_excel(\"/gdrive/My Drive/diabetic-retinopathy-resized/MadamAmeliaSample/result_3_all.xlsx\")"
      ],
      "execution_count": null,
      "outputs": []
    },
    {
      "cell_type": "code",
      "metadata": {
        "id": "DMpRcgbYU_hd",
        "colab_type": "code",
        "colab": {}
      },
      "source": [
        ""
      ],
      "execution_count": null,
      "outputs": []
    }
  ]
}
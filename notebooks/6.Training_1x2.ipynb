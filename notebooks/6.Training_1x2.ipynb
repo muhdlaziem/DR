{
  "nbformat": 4,
  "nbformat_minor": 0,
  "metadata": {
    "kernelspec": {
      "name": "python3",
      "display_name": "Python 3"
    },
    "language_info": {
      "codemirror_mode": {
        "name": "ipython",
        "version": 3
      },
      "file_extension": ".py",
      "mimetype": "text/x-python",
      "name": "python",
      "nbconvert_exporter": "python",
      "pygments_lexer": "ipython3",
      "version": "3.6.9"
    },
    "colab": {
      "name": "Training_1x2.ipynb",
      "provenance": [],
      "machine_shape": "hm",
      "include_colab_link": true
    },
    "accelerator": "GPU"
  },
  "cells": [
    {
      "cell_type": "markdown",
      "metadata": {
        "id": "view-in-github",
        "colab_type": "text"
      },
      "source": [
        "<a href=\"https://colab.research.google.com/github/muhdlaziem/DR/blob/master/Training_1x2.ipynb\" target=\"_parent\"><img src=\"https://colab.research.google.com/assets/colab-badge.svg\" alt=\"Open In Colab\"/></a>"
      ]
    },
    {
      "cell_type": "code",
      "metadata": {
        "id": "8BW2rOQfd9kx",
        "colab_type": "code",
        "outputId": "2361460c-2a44-4b95-c83b-ccd71093600e",
        "colab": {
          "base_uri": "https://localhost:8080/",
          "height": 52
        }
      },
      "source": [
        "from google.colab import drive\n",
        "drive.mount('/gdrive')\n",
        "%cd /gdrive/'My Drive'/"
      ],
      "execution_count": 1,
      "outputs": [
        {
          "output_type": "stream",
          "text": [
            "Drive already mounted at /gdrive; to attempt to forcibly remount, call drive.mount(\"/gdrive\", force_remount=True).\n",
            "/gdrive/My Drive\n"
          ],
          "name": "stdout"
        }
      ]
    },
    {
      "cell_type": "code",
      "metadata": {
        "id": "UxzrGOcsZTJ9",
        "colab_type": "code",
        "colab": {}
      },
      "source": [
        "import numpy as np"
      ],
      "execution_count": 0,
      "outputs": []
    },
    {
      "cell_type": "code",
      "metadata": {
        "id": "cp0lzQpfZTKW",
        "colab_type": "code",
        "colab": {}
      },
      "source": [
        "trainImages = np.load('./diabetic-retinopathy-resized/1x2/trainImages.npy')\n",
        "testImages = np.load('./diabetic-retinopathy-resized/1x2/testImages.npy')\n",
        "y_train = np.load('./diabetic-retinopathy-resized/1x2/y_train.npy')\n",
        "y_test = np.load('./diabetic-retinopathy-resized/1x2/y_test.npy')"
      ],
      "execution_count": 0,
      "outputs": []
    },
    {
      "cell_type": "code",
      "metadata": {
        "id": "ux_GwMX8ZTKi",
        "colab_type": "code",
        "outputId": "d5cf1b28-3bab-4695-c7aa-a23766cfa9e8",
        "colab": {
          "base_uri": "https://localhost:8080/",
          "height": 86
        }
      },
      "source": [
        "print(trainImages.shape)\n",
        "print(testImages.shape)\n",
        "print(y_train.shape)\n",
        "print(y_test.shape)"
      ],
      "execution_count": 4,
      "outputs": [
        {
          "output_type": "stream",
          "text": [
            "(7072, 256, 256, 3)\n",
            "(1769, 256, 256, 3)\n",
            "(7072, 2)\n",
            "(1769, 2)\n"
          ],
          "name": "stdout"
        }
      ]
    },
    {
      "cell_type": "code",
      "metadata": {
        "id": "0zvMC0sHZTKu",
        "colab_type": "code",
        "outputId": "b2587e2c-c1f7-41b3-aac7-db24ebf243bc",
        "colab": {
          "base_uri": "https://localhost:8080/",
          "height": 52
        }
      },
      "source": [
        "print(trainImages.max())\n",
        "print(testImages.max())"
      ],
      "execution_count": 5,
      "outputs": [
        {
          "output_type": "stream",
          "text": [
            "255\n",
            "255\n"
          ],
          "name": "stdout"
        }
      ]
    },
    {
      "cell_type": "code",
      "metadata": {
        "id": "h5myAgrycc5-",
        "colab_type": "code",
        "colab": {}
      },
      "source": [
        "# Normalize\n",
        "trainImages = trainImages/255\n",
        "testImages = testImages/255"
      ],
      "execution_count": 0,
      "outputs": []
    },
    {
      "cell_type": "code",
      "metadata": {
        "id": "FdlhksgnZTK5",
        "colab_type": "code",
        "outputId": "d601c955-1ccc-4bd5-f8fc-29534782c090",
        "colab": {
          "base_uri": "https://localhost:8080/",
          "height": 64
        }
      },
      "source": [
        "from tensorflow.keras import datasets, layers, models"
      ],
      "execution_count": 7,
      "outputs": [
        {
          "output_type": "display_data",
          "data": {
            "text/html": [
              "<p style=\"color: red;\">\n",
              "The default version of TensorFlow in Colab will switch to TensorFlow 2.x on the 27th of March, 2020.<br>\n",
              "We recommend you <a href=\"https://www.tensorflow.org/guide/migrate\" target=\"_blank\">upgrade</a> now\n",
              "or ensure your notebook will continue to use TensorFlow 1.x via the <code>%tensorflow_version 1.x</code> magic:\n",
              "<a href=\"https://colab.research.google.com/notebooks/tensorflow_version.ipynb\" target=\"_blank\">more info</a>.</p>\n"
            ],
            "text/plain": [
              "<IPython.core.display.HTML object>"
            ]
          },
          "metadata": {
            "tags": []
          }
        }
      ]
    },
    {
      "cell_type": "code",
      "metadata": {
        "id": "-BTf6EJwZTLC",
        "colab_type": "code",
        "colab": {}
      },
      "source": [
        "def convolutional_model():\n",
        "    \n",
        "    # create model\n",
        "    model = models.Sequential()\n",
        "    model.add(layers.Conv2D(128, (5, 5), activation='relu', input_shape=(256, 256, 3)))\n",
        "    model.add(layers.MaxPooling2D(pool_size=(2, 2), strides=(2, 2)))\n",
        "    # model.add(layers.Dropout(0.3))\n",
        "\n",
        "    model.add(layers.Conv2D(64, (5,5), strides = (1,1), activation='relu'))\n",
        "    model.add(layers.MaxPooling2D(pool_size = (2,2), strides = (2,2)))\n",
        "    # model.add(layers.Dropout(0.5))\n",
        "\n",
        "    model.add(layers.Conv2D(32, (5,5), strides = (1,1), activation='relu'))\n",
        "    model.add(layers.MaxPooling2D(pool_size = (2,2), strides = (2,2)))\n",
        "    # model.add(layers.Dropout(0.3))\n",
        "    \n",
        "    model.add(layers.Flatten())\n",
        "    model.add(layers.Dense(100, activation='relu'))\n",
        "    # model.add(layers.Dropout(0.3))\n",
        "    model.add(layers.Dense(2, activation='softmax'))\n",
        "\n",
        "    # model = models.Sequential()\n",
        "    # model.add(layers.Conv2D(16, (5, 5), activation='relu', input_shape=(256, 256, 3)))\n",
        "    # model.add(layers.MaxPooling2D(pool_size=(2, 2), strides=(2, 2)))\n",
        "    \n",
        "    # model.add(layers.Conv2D(8, (2, 2), activation='relu'))\n",
        "    # model.add(layers.MaxPooling2D(pool_size=(2, 2), strides=(2, 2)))\n",
        "    \n",
        "    # model.add(layers.Flatten())\n",
        "    # model.add(layers.Dense(100, activation='relu'))\n",
        "    # model.add(layers.Dense(2, activation='softmax'))\n",
        "    \n",
        "    model.summary()\n",
        "    model.compile(optimizer='adam', loss='categorical_crossentropy',  metrics=['accuracy'])\n",
        "    \n",
        "    return model"
      ],
      "execution_count": 0,
      "outputs": []
    },
    {
      "cell_type": "code",
      "metadata": {
        "id": "9Wq_OaajZTLK",
        "colab_type": "code",
        "outputId": "435074d5-74b2-4ace-db04-15181f57c7b9",
        "colab": {
          "base_uri": "https://localhost:8080/",
          "height": 541
        }
      },
      "source": [
        "model = convolutional_model()"
      ],
      "execution_count": 9,
      "outputs": [
        {
          "output_type": "stream",
          "text": [
            "WARNING:tensorflow:From /tensorflow-1.15.0/python3.6/tensorflow_core/python/ops/resource_variable_ops.py:1630: calling BaseResourceVariable.__init__ (from tensorflow.python.ops.resource_variable_ops) with constraint is deprecated and will be removed in a future version.\n",
            "Instructions for updating:\n",
            "If using Keras pass *_constraint arguments to layers.\n",
            "Model: \"sequential\"\n",
            "_________________________________________________________________\n",
            "Layer (type)                 Output Shape              Param #   \n",
            "=================================================================\n",
            "conv2d (Conv2D)              (None, 252, 252, 128)     9728      \n",
            "_________________________________________________________________\n",
            "max_pooling2d (MaxPooling2D) (None, 126, 126, 128)     0         \n",
            "_________________________________________________________________\n",
            "conv2d_1 (Conv2D)            (None, 122, 122, 64)      204864    \n",
            "_________________________________________________________________\n",
            "max_pooling2d_1 (MaxPooling2 (None, 61, 61, 64)        0         \n",
            "_________________________________________________________________\n",
            "conv2d_2 (Conv2D)            (None, 57, 57, 32)        51232     \n",
            "_________________________________________________________________\n",
            "max_pooling2d_2 (MaxPooling2 (None, 28, 28, 32)        0         \n",
            "_________________________________________________________________\n",
            "flatten (Flatten)            (None, 25088)             0         \n",
            "_________________________________________________________________\n",
            "dense (Dense)                (None, 100)               2508900   \n",
            "_________________________________________________________________\n",
            "dense_1 (Dense)              (None, 2)                 202       \n",
            "=================================================================\n",
            "Total params: 2,774,926\n",
            "Trainable params: 2,774,926\n",
            "Non-trainable params: 0\n",
            "_________________________________________________________________\n"
          ],
          "name": "stdout"
        }
      ]
    },
    {
      "cell_type": "code",
      "metadata": {
        "id": "D1ii7PQAZTLQ",
        "colab_type": "code",
        "outputId": "1e789d0f-f04f-42fd-aff7-5f2ef8a7dccf",
        "colab": {
          "base_uri": "https://localhost:8080/",
          "height": 1000
        }
      },
      "source": [
        "model.fit(trainImages, y_train, epochs=40, batch_size=100, validation_data=(testImages, y_test))"
      ],
      "execution_count": 10,
      "outputs": [
        {
          "output_type": "stream",
          "text": [
            "Train on 7072 samples, validate on 1769 samples\n",
            "Epoch 1/40\n",
            "7072/7072 [==============================] - 29s 4ms/sample - loss: 0.5067 - acc: 0.8339 - val_loss: 0.4816 - val_acc: 0.8157\n",
            "Epoch 2/40\n",
            "7072/7072 [==============================] - 25s 4ms/sample - loss: 0.4542 - acc: 0.8339 - val_loss: 0.4772 - val_acc: 0.8157\n",
            "Epoch 3/40\n",
            "7072/7072 [==============================] - 25s 3ms/sample - loss: 0.4492 - acc: 0.8339 - val_loss: 0.4735 - val_acc: 0.8157\n",
            "Epoch 4/40\n",
            "7072/7072 [==============================] - 25s 3ms/sample - loss: 0.4482 - acc: 0.8339 - val_loss: 0.4725 - val_acc: 0.8157\n",
            "Epoch 5/40\n",
            "7072/7072 [==============================] - 25s 3ms/sample - loss: 0.4506 - acc: 0.8339 - val_loss: 0.4725 - val_acc: 0.8157\n",
            "Epoch 6/40\n",
            "7072/7072 [==============================] - 25s 3ms/sample - loss: 0.4462 - acc: 0.8339 - val_loss: 0.4703 - val_acc: 0.8157\n",
            "Epoch 7/40\n",
            "7072/7072 [==============================] - 25s 3ms/sample - loss: 0.4448 - acc: 0.8339 - val_loss: 0.4698 - val_acc: 0.8157\n",
            "Epoch 8/40\n",
            "7072/7072 [==============================] - 25s 3ms/sample - loss: 0.4466 - acc: 0.8339 - val_loss: 0.4742 - val_acc: 0.8157\n",
            "Epoch 9/40\n",
            "7072/7072 [==============================] - 25s 3ms/sample - loss: 0.4443 - acc: 0.8339 - val_loss: 0.4697 - val_acc: 0.8157\n",
            "Epoch 10/40\n",
            "7072/7072 [==============================] - 25s 3ms/sample - loss: 0.4438 - acc: 0.8339 - val_loss: 0.4766 - val_acc: 0.8157\n",
            "Epoch 11/40\n",
            "7072/7072 [==============================] - 25s 3ms/sample - loss: 0.4476 - acc: 0.8339 - val_loss: 0.4696 - val_acc: 0.8157\n",
            "Epoch 12/40\n",
            "7072/7072 [==============================] - 25s 3ms/sample - loss: 0.4414 - acc: 0.8339 - val_loss: 0.4975 - val_acc: 0.8157\n",
            "Epoch 13/40\n",
            "7072/7072 [==============================] - 25s 3ms/sample - loss: 0.4400 - acc: 0.8339 - val_loss: 0.4780 - val_acc: 0.8157\n",
            "Epoch 14/40\n",
            "7072/7072 [==============================] - 25s 3ms/sample - loss: 0.4386 - acc: 0.8339 - val_loss: 0.4847 - val_acc: 0.8157\n",
            "Epoch 15/40\n",
            "7072/7072 [==============================] - 25s 3ms/sample - loss: 0.4376 - acc: 0.8339 - val_loss: 0.4725 - val_acc: 0.8157\n",
            "Epoch 16/40\n",
            "7072/7072 [==============================] - 25s 3ms/sample - loss: 0.4369 - acc: 0.8339 - val_loss: 0.4677 - val_acc: 0.8157\n",
            "Epoch 17/40\n",
            "7072/7072 [==============================] - 25s 3ms/sample - loss: 0.4330 - acc: 0.8339 - val_loss: 0.4658 - val_acc: 0.8157\n",
            "Epoch 18/40\n",
            "7072/7072 [==============================] - 25s 3ms/sample - loss: 0.4345 - acc: 0.8339 - val_loss: 0.4677 - val_acc: 0.8157\n",
            "Epoch 19/40\n",
            "7072/7072 [==============================] - 25s 3ms/sample - loss: 0.4320 - acc: 0.8339 - val_loss: 0.4689 - val_acc: 0.8157\n",
            "Epoch 20/40\n",
            "7072/7072 [==============================] - 25s 3ms/sample - loss: 0.4313 - acc: 0.8339 - val_loss: 0.4740 - val_acc: 0.8157\n",
            "Epoch 21/40\n",
            "7072/7072 [==============================] - 25s 3ms/sample - loss: 0.4285 - acc: 0.8339 - val_loss: 0.4939 - val_acc: 0.8157\n",
            "Epoch 22/40\n",
            "7072/7072 [==============================] - 25s 3ms/sample - loss: 0.4281 - acc: 0.8339 - val_loss: 0.4702 - val_acc: 0.8157\n",
            "Epoch 23/40\n",
            "7072/7072 [==============================] - 25s 3ms/sample - loss: 0.4250 - acc: 0.8339 - val_loss: 0.4757 - val_acc: 0.8157\n",
            "Epoch 24/40\n",
            "7072/7072 [==============================] - 25s 3ms/sample - loss: 0.4231 - acc: 0.8339 - val_loss: 0.4793 - val_acc: 0.8157\n",
            "Epoch 25/40\n",
            "7072/7072 [==============================] - 25s 3ms/sample - loss: 0.4252 - acc: 0.8339 - val_loss: 0.4672 - val_acc: 0.8157\n",
            "Epoch 26/40\n",
            "7072/7072 [==============================] - 25s 3ms/sample - loss: 0.4195 - acc: 0.8339 - val_loss: 0.4916 - val_acc: 0.8157\n",
            "Epoch 27/40\n",
            "7072/7072 [==============================] - 25s 3ms/sample - loss: 0.4205 - acc: 0.8339 - val_loss: 0.4700 - val_acc: 0.8157\n",
            "Epoch 28/40\n",
            "7072/7072 [==============================] - 25s 3ms/sample - loss: 0.4175 - acc: 0.8339 - val_loss: 0.4808 - val_acc: 0.8157\n",
            "Epoch 29/40\n",
            "7072/7072 [==============================] - 25s 3ms/sample - loss: 0.4151 - acc: 0.8339 - val_loss: 0.4918 - val_acc: 0.8157\n",
            "Epoch 30/40\n",
            "7072/7072 [==============================] - 25s 3ms/sample - loss: 0.4136 - acc: 0.8339 - val_loss: 0.4938 - val_acc: 0.8157\n",
            "Epoch 31/40\n",
            "7072/7072 [==============================] - 25s 3ms/sample - loss: 0.4087 - acc: 0.8339 - val_loss: 0.4735 - val_acc: 0.8157\n",
            "Epoch 32/40\n",
            "7072/7072 [==============================] - 25s 3ms/sample - loss: 0.4043 - acc: 0.8339 - val_loss: 0.4827 - val_acc: 0.8157\n",
            "Epoch 33/40\n",
            "7072/7072 [==============================] - 25s 3ms/sample - loss: 0.3967 - acc: 0.8337 - val_loss: 0.4806 - val_acc: 0.8157\n",
            "Epoch 34/40\n",
            "7072/7072 [==============================] - 25s 3ms/sample - loss: 0.3908 - acc: 0.8350 - val_loss: 0.4845 - val_acc: 0.8140\n",
            "Epoch 35/40\n",
            "7072/7072 [==============================] - 25s 3ms/sample - loss: 0.3832 - acc: 0.8370 - val_loss: 0.5324 - val_acc: 0.8129\n",
            "Epoch 36/40\n",
            "7072/7072 [==============================] - 25s 3ms/sample - loss: 0.3836 - acc: 0.8380 - val_loss: 0.4950 - val_acc: 0.8135\n",
            "Epoch 37/40\n",
            "7072/7072 [==============================] - 25s 3ms/sample - loss: 0.3697 - acc: 0.8399 - val_loss: 0.4998 - val_acc: 0.8129\n",
            "Epoch 38/40\n",
            "7072/7072 [==============================] - 25s 3ms/sample - loss: 0.3521 - acc: 0.8426 - val_loss: 0.5219 - val_acc: 0.8157\n",
            "Epoch 39/40\n",
            "7072/7072 [==============================] - 25s 3ms/sample - loss: 0.3443 - acc: 0.8497 - val_loss: 0.5276 - val_acc: 0.7982\n",
            "Epoch 40/40\n",
            "7072/7072 [==============================] - 25s 3ms/sample - loss: 0.3232 - acc: 0.8641 - val_loss: 0.5350 - val_acc: 0.8005\n"
          ],
          "name": "stdout"
        },
        {
          "output_type": "execute_result",
          "data": {
            "text/plain": [
              "<tensorflow.python.keras.callbacks.History at 0x7fb780b1f208>"
            ]
          },
          "metadata": {
            "tags": []
          },
          "execution_count": 10
        }
      ]
    },
    {
      "cell_type": "code",
      "metadata": {
        "id": "lkPTmCSkdOEX",
        "colab_type": "code",
        "outputId": "560b2827-7a3e-4568-f7eb-ed961f60763f",
        "colab": {
          "base_uri": "https://localhost:8080/",
          "height": 52
        }
      },
      "source": [
        "scores = model.evaluate(testImages, y_test, verbose=0)\n",
        "print('Accuracy: {}% \\n Error: {}'.format(scores[1], 1 - scores[1])) "
      ],
      "execution_count": 11,
      "outputs": [
        {
          "output_type": "stream",
          "text": [
            "Accuracy: 0.8004522323608398% \n",
            " Error: 0.19954776763916016\n"
          ],
          "name": "stdout"
        }
      ]
    },
    {
      "cell_type": "code",
      "metadata": {
        "id": "x7GkOIoueMWf",
        "colab_type": "code",
        "outputId": "547940aa-ec13-49e6-d51c-ba3847beb393",
        "colab": {
          "base_uri": "https://localhost:8080/",
          "height": 52
        }
      },
      "source": [
        "from sklearn import metrics\n",
        "y_pred = model.predict(testImages)\n",
        "matrix = metrics.confusion_matrix(y_test.argmax(axis=1), y_pred.argmax(axis=1))\n",
        "matrix"
      ],
      "execution_count": 12,
      "outputs": [
        {
          "output_type": "execute_result",
          "data": {
            "text/plain": [
              "array([[1372,   71],\n",
              "       [ 282,   44]])"
            ]
          },
          "metadata": {
            "tags": []
          },
          "execution_count": 12
        }
      ]
    },
    {
      "cell_type": "code",
      "metadata": {
        "id": "8HRPUBPgdVJH",
        "colab_type": "code",
        "outputId": "6c7beab6-27b1-45e9-8a33-b6396fa854cc",
        "colab": {
          "base_uri": "https://localhost:8080/",
          "height": 34
        }
      },
      "source": [
        "model.save(\"training_1x2_1.h5\")\n",
        "print(\"Saved model to disk\")"
      ],
      "execution_count": 13,
      "outputs": [
        {
          "output_type": "stream",
          "text": [
            "Saved model to disk\n"
          ],
          "name": "stdout"
        }
      ]
    },
    {
      "cell_type": "code",
      "metadata": {
        "id": "GB931bhIuDns",
        "colab_type": "code",
        "colab": {}
      },
      "source": [
        ""
      ],
      "execution_count": 0,
      "outputs": []
    }
  ]
}
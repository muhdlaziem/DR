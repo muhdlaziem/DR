{
  "nbformat": 4,
  "nbformat_minor": 0,
  "metadata": {
    "colab": {
      "name": "Testing_3_undersampling.ipynb",
      "provenance": [],
      "collapsed_sections": [],
      "authorship_tag": "ABX9TyPgxLI9JUKl6ftZEx+NkbKs",
      "include_colab_link": true
    },
    "kernelspec": {
      "name": "python3",
      "display_name": "Python 3"
    },
    "accelerator": "GPU",
    "widgets": {
      "application/vnd.jupyter.widget-state+json": {
        "dfef78141a924b1dac8cae49d424c5a7": {
          "model_module": "@jupyter-widgets/controls",
          "model_name": "HBoxModel",
          "state": {
            "_view_name": "HBoxView",
            "_dom_classes": [],
            "_model_name": "HBoxModel",
            "_view_module": "@jupyter-widgets/controls",
            "_model_module_version": "1.5.0",
            "_view_count": null,
            "_view_module_version": "1.5.0",
            "box_style": "",
            "layout": "IPY_MODEL_4320c148a980478aa4f676a31613ab31",
            "_model_module": "@jupyter-widgets/controls",
            "children": [
              "IPY_MODEL_b2ab2de821874eda9d8723fe3e7133fc",
              "IPY_MODEL_4d12a57ff2914bec862d96c403447c59"
            ]
          }
        },
        "4320c148a980478aa4f676a31613ab31": {
          "model_module": "@jupyter-widgets/base",
          "model_name": "LayoutModel",
          "state": {
            "_view_name": "LayoutView",
            "grid_template_rows": null,
            "right": null,
            "justify_content": null,
            "_view_module": "@jupyter-widgets/base",
            "overflow": null,
            "_model_module_version": "1.2.0",
            "_view_count": null,
            "flex_flow": null,
            "width": null,
            "min_width": null,
            "border": null,
            "align_items": null,
            "bottom": null,
            "_model_module": "@jupyter-widgets/base",
            "top": null,
            "grid_column": null,
            "overflow_y": null,
            "overflow_x": null,
            "grid_auto_flow": null,
            "grid_area": null,
            "grid_template_columns": null,
            "flex": null,
            "_model_name": "LayoutModel",
            "justify_items": null,
            "grid_row": null,
            "max_height": null,
            "align_content": null,
            "visibility": null,
            "align_self": null,
            "height": null,
            "min_height": null,
            "padding": null,
            "grid_auto_rows": null,
            "grid_gap": null,
            "max_width": null,
            "order": null,
            "_view_module_version": "1.2.0",
            "grid_template_areas": null,
            "object_position": null,
            "object_fit": null,
            "grid_auto_columns": null,
            "margin": null,
            "display": null,
            "left": null
          }
        },
        "b2ab2de821874eda9d8723fe3e7133fc": {
          "model_module": "@jupyter-widgets/controls",
          "model_name": "FloatProgressModel",
          "state": {
            "_view_name": "ProgressView",
            "style": "IPY_MODEL_274056006cc1460a909cf845c293f698",
            "_dom_classes": [],
            "description": "100%",
            "_model_name": "FloatProgressModel",
            "bar_style": "success",
            "max": 60,
            "_view_module": "@jupyter-widgets/controls",
            "_model_module_version": "1.5.0",
            "value": 60,
            "_view_count": null,
            "_view_module_version": "1.5.0",
            "orientation": "horizontal",
            "min": 0,
            "description_tooltip": null,
            "_model_module": "@jupyter-widgets/controls",
            "layout": "IPY_MODEL_573b7428130646fb9cc12c4509eebe72"
          }
        },
        "4d12a57ff2914bec862d96c403447c59": {
          "model_module": "@jupyter-widgets/controls",
          "model_name": "HTMLModel",
          "state": {
            "_view_name": "HTMLView",
            "style": "IPY_MODEL_c6ea294ecd8a4350947fb1cacccfd292",
            "_dom_classes": [],
            "description": "",
            "_model_name": "HTMLModel",
            "placeholder": "​",
            "_view_module": "@jupyter-widgets/controls",
            "_model_module_version": "1.5.0",
            "value": " 60/60 [00:00&lt;00:00, 63.53it/s]",
            "_view_count": null,
            "_view_module_version": "1.5.0",
            "description_tooltip": null,
            "_model_module": "@jupyter-widgets/controls",
            "layout": "IPY_MODEL_cc5e7b0c132f44f69cbdfd97bede031b"
          }
        },
        "274056006cc1460a909cf845c293f698": {
          "model_module": "@jupyter-widgets/controls",
          "model_name": "ProgressStyleModel",
          "state": {
            "_view_name": "StyleView",
            "_model_name": "ProgressStyleModel",
            "description_width": "initial",
            "_view_module": "@jupyter-widgets/base",
            "_model_module_version": "1.5.0",
            "_view_count": null,
            "_view_module_version": "1.2.0",
            "bar_color": null,
            "_model_module": "@jupyter-widgets/controls"
          }
        },
        "573b7428130646fb9cc12c4509eebe72": {
          "model_module": "@jupyter-widgets/base",
          "model_name": "LayoutModel",
          "state": {
            "_view_name": "LayoutView",
            "grid_template_rows": null,
            "right": null,
            "justify_content": null,
            "_view_module": "@jupyter-widgets/base",
            "overflow": null,
            "_model_module_version": "1.2.0",
            "_view_count": null,
            "flex_flow": null,
            "width": null,
            "min_width": null,
            "border": null,
            "align_items": null,
            "bottom": null,
            "_model_module": "@jupyter-widgets/base",
            "top": null,
            "grid_column": null,
            "overflow_y": null,
            "overflow_x": null,
            "grid_auto_flow": null,
            "grid_area": null,
            "grid_template_columns": null,
            "flex": null,
            "_model_name": "LayoutModel",
            "justify_items": null,
            "grid_row": null,
            "max_height": null,
            "align_content": null,
            "visibility": null,
            "align_self": null,
            "height": null,
            "min_height": null,
            "padding": null,
            "grid_auto_rows": null,
            "grid_gap": null,
            "max_width": null,
            "order": null,
            "_view_module_version": "1.2.0",
            "grid_template_areas": null,
            "object_position": null,
            "object_fit": null,
            "grid_auto_columns": null,
            "margin": null,
            "display": null,
            "left": null
          }
        },
        "c6ea294ecd8a4350947fb1cacccfd292": {
          "model_module": "@jupyter-widgets/controls",
          "model_name": "DescriptionStyleModel",
          "state": {
            "_view_name": "StyleView",
            "_model_name": "DescriptionStyleModel",
            "description_width": "",
            "_view_module": "@jupyter-widgets/base",
            "_model_module_version": "1.5.0",
            "_view_count": null,
            "_view_module_version": "1.2.0",
            "_model_module": "@jupyter-widgets/controls"
          }
        },
        "cc5e7b0c132f44f69cbdfd97bede031b": {
          "model_module": "@jupyter-widgets/base",
          "model_name": "LayoutModel",
          "state": {
            "_view_name": "LayoutView",
            "grid_template_rows": null,
            "right": null,
            "justify_content": null,
            "_view_module": "@jupyter-widgets/base",
            "overflow": null,
            "_model_module_version": "1.2.0",
            "_view_count": null,
            "flex_flow": null,
            "width": null,
            "min_width": null,
            "border": null,
            "align_items": null,
            "bottom": null,
            "_model_module": "@jupyter-widgets/base",
            "top": null,
            "grid_column": null,
            "overflow_y": null,
            "overflow_x": null,
            "grid_auto_flow": null,
            "grid_area": null,
            "grid_template_columns": null,
            "flex": null,
            "_model_name": "LayoutModel",
            "justify_items": null,
            "grid_row": null,
            "max_height": null,
            "align_content": null,
            "visibility": null,
            "align_self": null,
            "height": null,
            "min_height": null,
            "padding": null,
            "grid_auto_rows": null,
            "grid_gap": null,
            "max_width": null,
            "order": null,
            "_view_module_version": "1.2.0",
            "grid_template_areas": null,
            "object_position": null,
            "object_fit": null,
            "grid_auto_columns": null,
            "margin": null,
            "display": null,
            "left": null
          }
        }
      }
    }
  },
  "cells": [
    {
      "cell_type": "markdown",
      "metadata": {
        "id": "view-in-github",
        "colab_type": "text"
      },
      "source": [
        "<a href=\"https://colab.research.google.com/github/muhdlaziem/DR/blob/master/Testing_3_undersampling.ipynb\" target=\"_parent\"><img src=\"https://colab.research.google.com/assets/colab-badge.svg\" alt=\"Open In Colab\"/></a>"
      ]
    },
    {
      "cell_type": "code",
      "metadata": {
        "id": "uwQMdV0Sd4vs",
        "colab_type": "code",
        "colab": {
          "base_uri": "https://localhost:8080/",
          "height": 51
        },
        "outputId": "2447ec72-36e8-4899-c59a-b6a9dae7e0d6"
      },
      "source": [
        "from google.colab import drive\n",
        "drive.mount('/gdrive')\n",
        "%cd /gdrive/'My Drive'/"
      ],
      "execution_count": null,
      "outputs": [
        {
          "output_type": "stream",
          "text": [
            "Drive already mounted at /gdrive; to attempt to forcibly remount, call drive.mount(\"/gdrive\", force_remount=True).\n",
            "/gdrive/My Drive\n"
          ],
          "name": "stdout"
        }
      ]
    },
    {
      "cell_type": "code",
      "metadata": {
        "id": "QatZcipbeQrN",
        "colab_type": "code",
        "colab": {}
      },
      "source": [
        "%tensorflow_version 1.x\n",
        "\n",
        "# import libraries\n",
        "import json\n",
        "import math\n",
        "from tqdm import tqdm, tqdm_notebook\n",
        "import gc\n",
        "import warnings\n",
        "import os\n",
        "\n",
        "import cv2\n",
        "from PIL import Image\n",
        "\n",
        "import pandas as pd\n",
        "import scipy\n",
        "import matplotlib.pyplot as plt\n",
        "\n",
        "from keras import backend as K\n",
        "from keras import layers\n",
        "from keras.applications.densenet import DenseNet121\n",
        "from keras.callbacks import Callback, ModelCheckpoint\n",
        "from keras.preprocessing.image import ImageDataGenerator\n",
        "from keras.models import Sequential\n",
        "from keras.optimizers import Adam\n",
        "\n",
        "from sklearn.model_selection import train_test_split\n",
        "from sklearn.metrics import cohen_kappa_score, accuracy_score\n",
        "import numpy as np\n",
        "\n",
        "warnings.filterwarnings(\"ignore\")\n",
        "\n",
        "%matplotlib inline"
      ],
      "execution_count": null,
      "outputs": []
    },
    {
      "cell_type": "code",
      "metadata": {
        "id": "QXb0Y8cBeW2y",
        "colab_type": "code",
        "colab": {}
      },
      "source": [
        "# Image size\n",
        "im_size = 320"
      ],
      "execution_count": null,
      "outputs": []
    },
    {
      "cell_type": "code",
      "metadata": {
        "id": "SGrUw1LcenL6",
        "colab_type": "code",
        "colab": {
          "base_uri": "https://localhost:8080/",
          "height": 204
        },
        "outputId": "38f11553-a0d5-4a62-b589-d0ad68c2eff1"
      },
      "source": [
        "import pandas as pd\n",
        "# %cd diabetic-retinopathy-resized/\n",
        "DR = pd.read_csv('/gdrive/My Drive/diabetic-retinopathy-resized/MadamAmeliaSample/label_for_out_MYRRC_data2_256x256.csv')\n",
        "DR.head()"
      ],
      "execution_count": null,
      "outputs": [
        {
          "output_type": "execute_result",
          "data": {
            "text/html": [
              "<div>\n",
              "<style scoped>\n",
              "    .dataframe tbody tr th:only-of-type {\n",
              "        vertical-align: middle;\n",
              "    }\n",
              "\n",
              "    .dataframe tbody tr th {\n",
              "        vertical-align: top;\n",
              "    }\n",
              "\n",
              "    .dataframe thead th {\n",
              "        text-align: right;\n",
              "    }\n",
              "</style>\n",
              "<table border=\"1\" class=\"dataframe\">\n",
              "  <thead>\n",
              "    <tr style=\"text-align: right;\">\n",
              "      <th></th>\n",
              "      <th>file</th>\n",
              "      <th>class</th>\n",
              "    </tr>\n",
              "  </thead>\n",
              "  <tbody>\n",
              "    <tr>\n",
              "      <th>0</th>\n",
              "      <td>00000.jpg</td>\n",
              "      <td>0</td>\n",
              "    </tr>\n",
              "    <tr>\n",
              "      <th>1</th>\n",
              "      <td>00001.jpg</td>\n",
              "      <td>0</td>\n",
              "    </tr>\n",
              "    <tr>\n",
              "      <th>2</th>\n",
              "      <td>00002.jpg</td>\n",
              "      <td>0</td>\n",
              "    </tr>\n",
              "    <tr>\n",
              "      <th>3</th>\n",
              "      <td>00003.jpg</td>\n",
              "      <td>0</td>\n",
              "    </tr>\n",
              "    <tr>\n",
              "      <th>4</th>\n",
              "      <td>00004.jpg</td>\n",
              "      <td>0</td>\n",
              "    </tr>\n",
              "  </tbody>\n",
              "</table>\n",
              "</div>"
            ],
            "text/plain": [
              "        file  class\n",
              "0  00000.jpg      0\n",
              "1  00001.jpg      0\n",
              "2  00002.jpg      0\n",
              "3  00003.jpg      0\n",
              "4  00004.jpg      0"
            ]
          },
          "metadata": {
            "tags": []
          },
          "execution_count": 32
        }
      ]
    },
    {
      "cell_type": "code",
      "metadata": {
        "id": "H02gZx8SeqFS",
        "colab_type": "code",
        "colab": {}
      },
      "source": [
        "def preprocess_image(image_path, desired_size=224):\n",
        "    img = cv2.imread(image_path)\n",
        "    img = cv2.cvtColor(img, cv2.COLOR_BGR2RGB)\n",
        "    #img = crop_image_from_gray(img)\n",
        "    img = cv2.resize(img, (desired_size,desired_size))\n",
        "    img = cv2.addWeighted(img,4,cv2.GaussianBlur(img, (0,0), desired_size/40) ,-4 ,128)\n",
        "    \n",
        "    return img"
      ],
      "execution_count": null,
      "outputs": []
    },
    {
      "cell_type": "code",
      "metadata": {
        "id": "gMgxGgOoe7cP",
        "colab_type": "code",
        "colab": {
          "base_uri": "https://localhost:8080/",
          "height": 83,
          "referenced_widgets": [
            "dfef78141a924b1dac8cae49d424c5a7",
            "4320c148a980478aa4f676a31613ab31",
            "b2ab2de821874eda9d8723fe3e7133fc",
            "4d12a57ff2914bec862d96c403447c59",
            "274056006cc1460a909cf845c293f698",
            "573b7428130646fb9cc12c4509eebe72",
            "c6ea294ecd8a4350947fb1cacccfd292",
            "cc5e7b0c132f44f69cbdfd97bede031b"
          ]
        },
        "outputId": "081ca2d5-8d80-4986-ef2b-680997a1607e"
      },
      "source": [
        "# testing set\n",
        "%cd /gdrive/My Drive/diabetic-retinopathy-resized/MadamAmeliaSample/image\n",
        "N = DR.shape[0]\n",
        "x_test = np.empty((N, im_size, im_size, 3), dtype=np.uint8)\n",
        "\n",
        "for i, image_id in enumerate(tqdm_notebook(DR['file'])):\n",
        "    x_test[i, :, :, :] = preprocess_image(\n",
        "        f'{image_id}',\n",
        "        desired_size = im_size\n",
        "    )"
      ],
      "execution_count": null,
      "outputs": [
        {
          "output_type": "stream",
          "text": [
            "/gdrive/My Drive/diabetic-retinopathy-resized/MadamAmeliaSample/image\n"
          ],
          "name": "stdout"
        },
        {
          "output_type": "display_data",
          "data": {
            "application/vnd.jupyter.widget-view+json": {
              "model_id": "dfef78141a924b1dac8cae49d424c5a7",
              "version_minor": 0,
              "version_major": 2
            },
            "text/plain": [
              "HBox(children=(FloatProgress(value=0.0, max=60.0), HTML(value='')))"
            ]
          },
          "metadata": {
            "tags": []
          }
        },
        {
          "output_type": "stream",
          "text": [
            "\n"
          ],
          "name": "stdout"
        }
      ]
    },
    {
      "cell_type": "code",
      "metadata": {
        "id": "RptEfGktfMLZ",
        "colab_type": "code",
        "colab": {
          "base_uri": "https://localhost:8080/",
          "height": 51
        },
        "outputId": "9ec2fe3c-2bbc-4775-9bc8-1a9cf9d2c047"
      },
      "source": [
        "y_test = pd.get_dummies(DR['class']).values\n",
        "\n",
        "print(y_test.shape)\n",
        "print(x_test.shape)"
      ],
      "execution_count": null,
      "outputs": [
        {
          "output_type": "stream",
          "text": [
            "(60, 3)\n",
            "(60, 320, 320, 3)\n"
          ],
          "name": "stdout"
        }
      ]
    },
    {
      "cell_type": "code",
      "metadata": {
        "id": "XuLZZGFIfXai",
        "colab_type": "code",
        "colab": {
          "base_uri": "https://localhost:8080/",
          "height": 34
        },
        "outputId": "be41d065-03e7-4b90-cd44-d90ffc7c44de"
      },
      "source": [
        "y_test_multi = np.empty(y_test.shape, dtype=y_test.dtype)\n",
        "y_test_multi[:, 2] = y_test[:, 2]\n",
        "\n",
        "for i in range(1, -1, -1):\n",
        "    y_test_multi[:, i] = np.logical_or(y_test[:, i], y_test_multi[:, i+1])\n",
        "\n",
        "print(\"Y_test multi: {}\".format(y_test_multi.shape))"
      ],
      "execution_count": null,
      "outputs": [
        {
          "output_type": "stream",
          "text": [
            "Y_test multi: (60, 3)\n"
          ],
          "name": "stdout"
        }
      ]
    },
    {
      "cell_type": "code",
      "metadata": {
        "id": "ekC2KUd3fuLO",
        "colab_type": "code",
        "colab": {
          "base_uri": "https://localhost:8080/",
          "height": 289
        },
        "outputId": "006466f8-cb59-4f27-f029-3c67ab531c4f"
      },
      "source": [
        "# from keras.models import load_model\n",
        "import tensorflow as tf\n",
        "\n",
        "model = tf.keras.models.load_model('/gdrive/My Drive/diabetic-retinopathy-resized/resized_train_cropped/denseNet_3.h5')\n",
        "model.summary()"
      ],
      "execution_count": null,
      "outputs": [
        {
          "output_type": "stream",
          "text": [
            "Model: \"sequential_3\"\n",
            "_________________________________________________________________\n",
            "Layer (type)                 Output Shape              Param #   \n",
            "=================================================================\n",
            "densenet121 (Model)          (None, 10, 10, 1024)      7037504   \n",
            "_________________________________________________________________\n",
            "global_average_pooling2d_3 ( (None, 1024)              0         \n",
            "_________________________________________________________________\n",
            "dropout_3 (Dropout)          (None, 1024)              0         \n",
            "_________________________________________________________________\n",
            "dense_3 (Dense)              (None, 3)                 3075      \n",
            "=================================================================\n",
            "Total params: 7,040,579\n",
            "Trainable params: 6,956,931\n",
            "Non-trainable params: 83,648\n",
            "_________________________________________________________________\n"
          ],
          "name": "stdout"
        }
      ]
    },
    {
      "cell_type": "code",
      "metadata": {
        "id": "MtNqaYX5f8uk",
        "colab_type": "code",
        "colab": {}
      },
      "source": [
        "y_val_pred = model.predict(x_test)                                                                        "
      ],
      "execution_count": null,
      "outputs": []
    },
    {
      "cell_type": "code",
      "metadata": {
        "id": "jnTBZqdlvtiE",
        "colab_type": "code",
        "colab": {
          "base_uri": "https://localhost:8080/",
          "height": 68
        },
        "outputId": "d4b7e785-11d1-4694-bd93-eb32d25136cc"
      },
      "source": [
        "def compute_score_inv(threshold):\n",
        "    y1 = y_val_pred > threshold\n",
        "    y1 = y1.astype(int).sum(axis=1) - 1\n",
        "    y2 = y_test_multi.sum(axis=1) - 1\n",
        "    score = cohen_kappa_score(y1, y2, weights='quadratic')\n",
        "    \n",
        "    return 1 - score\n",
        "\n",
        "simplex = scipy.optimize.minimize(\n",
        "    compute_score_inv, 0.5, method='nelder-mead'\n",
        ")\n",
        "\n",
        "best_threshold = simplex['x'][0]\n",
        "\n",
        "y1 = y_val_pred > best_threshold\n",
        "y1 = y1.astype(int).sum(axis=1) - 1\n",
        "# y1 = np.where(y1==2,1,y1)\n",
        "# y1 = np.where(y1==3,2,y1)\n",
        "# y1 = np.where(y1==4,2,y1)\n",
        "\n",
        "y2 = y_test_multi.sum(axis=1) - 1\n",
        "score = cohen_kappa_score(y1, y2, weights='quadratic')\n",
        "print('Threshold: {}'.format(best_threshold))\n",
        "print('Validation QWK score with best_threshold: {}'.format(score))\n",
        "\n",
        "y1 = y_val_pred > .5\n",
        "y1 = y1.astype(int).sum(axis=1) - 1\n",
        "# y1 = np.where(y1==2,1,y1)\n",
        "# y1 = np.where(y1==3,2,y1)\n",
        "# y1 = np.where(y1==4,2,y1)\n",
        "score = cohen_kappa_score(y1, y2, weights='quadratic')\n",
        "print('Validation QWK score with .5 threshold: {}'.format(score))"
      ],
      "execution_count": null,
      "outputs": [
        {
          "output_type": "stream",
          "text": [
            "Threshold: 0.525\n",
            "Validation QWK score with best_threshold: 0.676056338028169\n",
            "Validation QWK score with .5 threshold: 0.6575342465753424\n"
          ],
          "name": "stdout"
        }
      ]
    },
    {
      "cell_type": "code",
      "metadata": {
        "id": "g84dMAK1xHhY",
        "colab_type": "code",
        "colab": {
          "base_uri": "https://localhost:8080/",
          "height": 272
        },
        "outputId": "804a39ff-ff08-40ce-f9cb-9949b86a473a"
      },
      "source": [
        "from sklearn.metrics import classification_report, confusion_matrix\n",
        "y_best = y_val_pred > best_threshold\n",
        "y_best = y_best.astype(int).sum(axis=1) - 1\n",
        "# y_best = np.where(y_best==2,1,y_best)\n",
        "# y_best = np.where(y_best==3,2,y_best)\n",
        "# y_best = np.where(y_best==4,2,y_best)\n",
        "\n",
        "print('Confusion Matrix')\n",
        "print(confusion_matrix(y_best, y2))\n",
        "print('Classification Report')\n",
        "target_names = ['No DR', 'Moderate', 'Severe']\n",
        "print(classification_report(y_best, y2, target_names=target_names))"
      ],
      "execution_count": null,
      "outputs": [
        {
          "output_type": "stream",
          "text": [
            "Confusion Matrix\n",
            "[[ 7  1  0]\n",
            " [13 13  3]\n",
            " [ 0  6 17]]\n",
            "Classification Report\n",
            "              precision    recall  f1-score   support\n",
            "\n",
            "       No DR       0.35      0.88      0.50         8\n",
            "    Moderate       0.65      0.45      0.53        29\n",
            "      Severe       0.85      0.74      0.79        23\n",
            "\n",
            "    accuracy                           0.62        60\n",
            "   macro avg       0.62      0.69      0.61        60\n",
            "weighted avg       0.69      0.62      0.63        60\n",
            "\n"
          ],
          "name": "stdout"
        }
      ]
    },
    {
      "cell_type": "code",
      "metadata": {
        "id": "asLnNiVF2ILF",
        "colab_type": "code",
        "colab": {
          "base_uri": "https://localhost:8080/",
          "height": 85
        },
        "outputId": "5bca392f-1252-479d-d103-59b6bdbaa094"
      },
      "source": [
        "print(y_best)\n",
        "print(y2)"
      ],
      "execution_count": null,
      "outputs": [
        {
          "output_type": "stream",
          "text": [
            "[0 1 0 1 1 1 1 1 1 1 0 1 0 0 1 1 0 1 1 0 2 2 1 1 1 2 1 1 1 1 1 1 0 2 1 2 1\n",
            " 1 1 2 2 2 2 2 2 1 1 2 2 1 2 2 2 2 2 2 2 2 2 2]\n",
            "[0 0 0 0 0 0 0 0 0 0 0 0 0 0 0 0 0 0 0 0 1 1 1 1 1 1 1 1 1 1 1 1 1 1 1 1 1\n",
            " 1 1 1 2 2 2 2 2 2 2 2 2 2 2 2 2 2 2 2 2 2 2 2]\n"
          ],
          "name": "stdout"
        }
      ]
    },
    {
      "cell_type": "code",
      "metadata": {
        "id": "AsuxDfpbfbA8",
        "colab_type": "code",
        "colab": {}
      },
      "source": [
        "DR['predicted'] = y_best\n",
        "DR.to_excel(\"/gdrive/My Drive/diabetic-retinopathy-resized/MadamAmeliaSample/result_3_undersampling.xlsx\")"
      ],
      "execution_count": null,
      "outputs": []
    },
    {
      "cell_type": "code",
      "metadata": {
        "id": "DMpRcgbYU_hd",
        "colab_type": "code",
        "colab": {}
      },
      "source": [
        ""
      ],
      "execution_count": null,
      "outputs": []
    }
  ]
}
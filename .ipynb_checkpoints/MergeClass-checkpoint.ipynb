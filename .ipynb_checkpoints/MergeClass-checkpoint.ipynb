{
 "cells": [
  {
   "cell_type": "code",
   "execution_count": 1,
   "metadata": {},
   "outputs": [],
   "source": [
    "import numpy as np\n",
    "import pandas as pd\n",
    "from sklearn.model_selection import train_test_split\n",
    "import cv2"
   ]
  },
  {
   "cell_type": "code",
   "execution_count": 2,
   "metadata": {},
   "outputs": [],
   "source": [
    "DR = pd.read_csv('./diabetic-retinopathy-resized/trainLabels_cropped.csv')\n",
    "DR['image'] = DR['image'].apply(lambda x:'./diabetic-retinopathy-resized/resized_train_cropped/resized_train_cropped/' + x + '.jpeg')\n",
    "DR = DR.drop(['Unnamed: 0','Unnamed: 0.1'],axis=1)"
   ]
  },
  {
   "cell_type": "code",
   "execution_count": 3,
   "metadata": {},
   "outputs": [
    {
     "data": {
      "text/plain": [
       "0    0.734932\n",
       "2    0.150621\n",
       "1    0.069443\n",
       "3    0.024838\n",
       "4    0.020166\n",
       "Name: level, dtype: float64"
      ]
     },
     "execution_count": 3,
     "metadata": {},
     "output_type": "execute_result"
    }
   ],
   "source": [
    "(DR['level'].value_counts())/len(DR)"
   ]
  },
  {
   "cell_type": "code",
   "execution_count": 4,
   "metadata": {},
   "outputs": [
    {
     "data": {
      "text/plain": [
       "0    0.734932\n",
       "1    0.220064\n",
       "2    0.045004\n",
       "Name: level(3), dtype: float64"
      ]
     },
     "execution_count": 4,
     "metadata": {},
     "output_type": "execute_result"
    }
   ],
   "source": [
    "DR['level(3)'] = DR['level']\n",
    "DR['level(3)'] = DR['level(3)'].replace({2:1})\n",
    "DR['level(3)'] = DR['level(3)'].replace({3:2})\n",
    "DR['level(3)'] = DR['level(3)'].replace({4:2})\n",
    "\n",
    "(DR['level(3)'].value_counts())/len(DR)"
   ]
  },
  {
   "cell_type": "code",
   "execution_count": 5,
   "metadata": {
    "scrolled": true
   },
   "outputs": [
    {
     "data": {
      "text/plain": [
       "0    0.734932\n",
       "1    0.265068\n",
       "Name: level(2), dtype: float64"
      ]
     },
     "execution_count": 5,
     "metadata": {},
     "output_type": "execute_result"
    }
   ],
   "source": [
    "DR['level(2)'] = DR['level']\n",
    "DR['level(2)'] = DR['level(2)'].replace({2:1})\n",
    "DR['level(2)'] = DR['level(2)'].replace({3:1})\n",
    "DR['level(2)'] = DR['level(2)'].replace({4:1})\n",
    "(DR['level(2)'].value_counts())/len(DR)"
   ]
  },
  {
   "cell_type": "code",
   "execution_count": 6,
   "metadata": {},
   "outputs": [
    {
     "name": "stdout",
     "output_type": "stream",
     "text": [
      "<class 'pandas.core.frame.DataFrame'>\n",
      "RangeIndex: 35108 entries, 0 to 35107\n",
      "Data columns (total 4 columns):\n",
      " #   Column    Non-Null Count  Dtype \n",
      "---  ------    --------------  ----- \n",
      " 0   image     35108 non-null  object\n",
      " 1   level     35108 non-null  int64 \n",
      " 2   level(3)  35108 non-null  int64 \n",
      " 3   level(2)  35108 non-null  int64 \n",
      "dtypes: int64(3), object(1)\n",
      "memory usage: 1.1+ MB\n"
     ]
    }
   ],
   "source": [
    "DR.info()"
   ]
  },
  {
   "cell_type": "code",
   "execution_count": 7,
   "metadata": {},
   "outputs": [],
   "source": [
    "X_train, X_test, y_train, y_test = train_test_split(DR['image'],DR['level'],test_size=0.20, random_state=42)"
   ]
  },
  {
   "cell_type": "code",
   "execution_count": 8,
   "metadata": {},
   "outputs": [],
   "source": [
    "def loadImage(df):\n",
    "    images = list()\n",
    "    for i in range(len(df)):\n",
    "            image_name = df.iloc[i]\n",
    "            img = cv2.imread(image_name)\n",
    "            res = cv2.resize(img, dsize=(256, 256), interpolation=cv2.INTER_CUBIC)\n",
    "            images.append(res)\n",
    "    return images"
   ]
  },
  {
   "cell_type": "code",
   "execution_count": 9,
   "metadata": {},
   "outputs": [],
   "source": [
    "# trainImages = loadImage(X_train)\n",
    "# testImages = loadImage(X_test)\n",
    "\n",
    "# trainImages = np.asarray(trainImages)\n",
    "# testImages = np.asarray(testImages)\n",
    "\n",
    "# print(trainImages.shape)\n",
    "# print(testImages.shape)\n"
   ]
  },
  {
   "cell_type": "code",
   "execution_count": 10,
   "metadata": {},
   "outputs": [],
   "source": [
    "# y_train = to_categorical(y_train)\n",
    "# y_test = to_categorical(y_test)\n",
    "# np.save('./256x256x3(3 classes)/trainImages.npy', trainImages)\n",
    "# np.save('./256x256x3(3 classes)/testImages.npy', testImages)\n",
    "# np.save('./256x256x3(3 classes)/y_train.npy', y_train)\n",
    "# np.save('./256x256x3(3 classes)/y_test.npy', y_test)"
   ]
  }
 ],
 "metadata": {
  "kernelspec": {
   "display_name": "Python 3",
   "language": "python",
   "name": "python3"
  },
  "language_info": {
   "codemirror_mode": {
    "name": "ipython",
    "version": 3
   },
   "file_extension": ".py",
   "mimetype": "text/x-python",
   "name": "python",
   "nbconvert_exporter": "python",
   "pygments_lexer": "ipython3",
   "version": "3.6.9"
  }
 },
 "nbformat": 4,
 "nbformat_minor": 2
}

{
  "nbformat": 4,
  "nbformat_minor": 0,
  "metadata": {
    "kernelspec": {
      "name": "python3",
      "display_name": "Python 3"
    },
    "language_info": {
      "codemirror_mode": {
        "name": "ipython",
        "version": 3
      },
      "file_extension": ".py",
      "mimetype": "text/x-python",
      "name": "python",
      "nbconvert_exporter": "python",
      "pygments_lexer": "ipython3",
      "version": "3.6.9"
    },
    "colab": {
      "name": "Training_0x1.ipynb",
      "provenance": [],
      "machine_shape": "hm"
    },
    "accelerator": "GPU"
  },
  "cells": [
    {
      "cell_type": "code",
      "metadata": {
        "id": "8BW2rOQfd9kx",
        "colab_type": "code",
        "outputId": "e76df489-2321-4342-b3c9-48bad6f64ad8",
        "colab": {
          "base_uri": "https://localhost:8080/",
          "height": 52
        }
      },
      "source": [
        "from google.colab import drive\n",
        "drive.mount('/gdrive')\n",
        "%cd /gdrive/'My Drive'/"
      ],
      "execution_count": 1,
      "outputs": [
        {
          "output_type": "stream",
          "text": [
            "Drive already mounted at /gdrive; to attempt to forcibly remount, call drive.mount(\"/gdrive\", force_remount=True).\n",
            "/gdrive/My Drive\n"
          ],
          "name": "stdout"
        }
      ]
    },
    {
      "cell_type": "code",
      "metadata": {
        "id": "UxzrGOcsZTJ9",
        "colab_type": "code",
        "colab": {}
      },
      "source": [
        "import numpy as np"
      ],
      "execution_count": 0,
      "outputs": []
    },
    {
      "cell_type": "code",
      "metadata": {
        "id": "cp0lzQpfZTKW",
        "colab_type": "code",
        "colab": {}
      },
      "source": [
        "trainImages = np.load('./diabetic-retinopathy-resized/0x1/trainImages.npy')\n",
        "testImages = np.load('./diabetic-retinopathy-resized/0x1/testImages.npy')\n",
        "y_train = np.load('./diabetic-retinopathy-resized/0x1/y_train.npy')\n",
        "y_test = np.load('./diabetic-retinopathy-resized/0x1/y_test.npy')"
      ],
      "execution_count": 0,
      "outputs": []
    },
    {
      "cell_type": "code",
      "metadata": {
        "id": "ux_GwMX8ZTKi",
        "colab_type": "code",
        "outputId": "779a3c7a-b95c-4eca-a16a-b986db12f6cd",
        "colab": {
          "base_uri": "https://localhost:8080/",
          "height": 86
        }
      },
      "source": [
        "print(trainImages.shape)\n",
        "print(testImages.shape)\n",
        "print(y_train.shape)\n",
        "print(y_test.shape)"
      ],
      "execution_count": 4,
      "outputs": [
        {
          "output_type": "stream",
          "text": [
            "(25650, 256, 256, 3)\n",
            "(6413, 256, 256, 3)\n",
            "(25650, 2)\n",
            "(6413, 2)\n"
          ],
          "name": "stdout"
        }
      ]
    },
    {
      "cell_type": "code",
      "metadata": {
        "id": "0zvMC0sHZTKu",
        "colab_type": "code",
        "outputId": "7515d9ad-25ad-49d0-c204-4288ffa77814",
        "colab": {
          "base_uri": "https://localhost:8080/",
          "height": 52
        }
      },
      "source": [
        "print(trainImages.max())\n",
        "print(testImages.max())"
      ],
      "execution_count": 5,
      "outputs": [
        {
          "output_type": "stream",
          "text": [
            "255\n",
            "255\n"
          ],
          "name": "stdout"
        }
      ]
    },
    {
      "cell_type": "code",
      "metadata": {
        "id": "FdlhksgnZTK5",
        "colab_type": "code",
        "outputId": "9e5c3a39-93b3-416a-c356-68567ce216db",
        "colab": {
          "base_uri": "https://localhost:8080/",
          "height": 64
        }
      },
      "source": [
        "from tensorflow.keras import datasets, layers, models"
      ],
      "execution_count": 6,
      "outputs": [
        {
          "output_type": "display_data",
          "data": {
            "text/html": [
              "<p style=\"color: red;\">\n",
              "The default version of TensorFlow in Colab will soon switch to TensorFlow 2.x.<br>\n",
              "We recommend you <a href=\"https://www.tensorflow.org/guide/migrate\" target=\"_blank\">upgrade</a> now \n",
              "or ensure your notebook will continue to use TensorFlow 1.x via the <code>%tensorflow_version 1.x</code> magic:\n",
              "<a href=\"https://colab.research.google.com/notebooks/tensorflow_version.ipynb\" target=\"_blank\">more info</a>.</p>\n"
            ],
            "text/plain": [
              "<IPython.core.display.HTML object>"
            ]
          },
          "metadata": {
            "tags": []
          }
        }
      ]
    },
    {
      "cell_type": "code",
      "metadata": {
        "id": "-BTf6EJwZTLC",
        "colab_type": "code",
        "colab": {}
      },
      "source": [
        "def convolutional_model():\n",
        "    \n",
        "    # create model\n",
        "    model = models.Sequential()\n",
        "    model.add(layers.Conv2D(32, (5, 5), strides=(1, 1), activation='relu', input_shape=(256, 256, 3)))\n",
        "    model.add(layers.MaxPooling2D(pool_size=(2, 2), strides=(2, 2), padding='same'))\n",
        "    # model.add(layers.Dropout(0.3))\n",
        "\n",
        "    model.add(layers.Conv2D(64, (5,5), strides = (1,1), activation='relu'))\n",
        "    model.add(layers.MaxPooling2D(pool_size = (2,2), strides = (2,2), padding='same'))\n",
        "    # model.add(layers.Dropout(0.5))\n",
        "\n",
        "    model.add(layers.Conv2D(128, (5,5), strides = (1,1), activation='relu'))\n",
        "    model.add(layers.MaxPooling2D(pool_size = (2,2), strides = (2,2), padding='same'))\n",
        "    # model.add(layers.Dropout(0.3))\n",
        "    \n",
        "    model.add(layers.Flatten())\n",
        "    model.add(layers.Dense(100, activation='relu'))\n",
        "    # model.add(layers.Dropout(0.3))\n",
        "    model.add(layers.Dense(2, activation='softmax'))\n",
        "    \n",
        "    model.summary()\n",
        "    model.compile(optimizer='adam', loss='categorical_crossentropy',  metrics=['accuracy'])\n",
        "    \n",
        "    return model"
      ],
      "execution_count": 0,
      "outputs": []
    },
    {
      "cell_type": "code",
      "metadata": {
        "id": "9Wq_OaajZTLK",
        "colab_type": "code",
        "outputId": "88b4efb0-c372-4bf4-9c64-87bbe5954301",
        "colab": {
          "base_uri": "https://localhost:8080/",
          "height": 541
        }
      },
      "source": [
        "model = convolutional_model()"
      ],
      "execution_count": 8,
      "outputs": [
        {
          "output_type": "stream",
          "text": [
            "WARNING:tensorflow:From /tensorflow-1.15.0/python3.6/tensorflow_core/python/ops/resource_variable_ops.py:1630: calling BaseResourceVariable.__init__ (from tensorflow.python.ops.resource_variable_ops) with constraint is deprecated and will be removed in a future version.\n",
            "Instructions for updating:\n",
            "If using Keras pass *_constraint arguments to layers.\n",
            "Model: \"sequential\"\n",
            "_________________________________________________________________\n",
            "Layer (type)                 Output Shape              Param #   \n",
            "=================================================================\n",
            "conv2d (Conv2D)              (None, 252, 252, 32)      2432      \n",
            "_________________________________________________________________\n",
            "max_pooling2d (MaxPooling2D) (None, 126, 126, 32)      0         \n",
            "_________________________________________________________________\n",
            "conv2d_1 (Conv2D)            (None, 122, 122, 64)      51264     \n",
            "_________________________________________________________________\n",
            "max_pooling2d_1 (MaxPooling2 (None, 61, 61, 64)        0         \n",
            "_________________________________________________________________\n",
            "conv2d_2 (Conv2D)            (None, 57, 57, 128)       204928    \n",
            "_________________________________________________________________\n",
            "max_pooling2d_2 (MaxPooling2 (None, 29, 29, 128)       0         \n",
            "_________________________________________________________________\n",
            "flatten (Flatten)            (None, 107648)            0         \n",
            "_________________________________________________________________\n",
            "dense (Dense)                (None, 100)               10764900  \n",
            "_________________________________________________________________\n",
            "dense_1 (Dense)              (None, 2)                 202       \n",
            "=================================================================\n",
            "Total params: 11,023,726\n",
            "Trainable params: 11,023,726\n",
            "Non-trainable params: 0\n",
            "_________________________________________________________________\n"
          ],
          "name": "stdout"
        }
      ]
    },
    {
      "cell_type": "code",
      "metadata": {
        "id": "D1ii7PQAZTLQ",
        "colab_type": "code",
        "outputId": "27424161-d58d-498e-d345-6ac562c5b7b3",
        "colab": {
          "base_uri": "https://localhost:8080/",
          "height": 399
        }
      },
      "source": [
        "model.fit(trainImages, y_train, epochs=10, validation_data=(testImages, y_test))"
      ],
      "execution_count": 9,
      "outputs": [
        {
          "output_type": "stream",
          "text": [
            "Train on 25650 samples, validate on 6413 samples\n",
            "Epoch 1/10\n",
            "25650/25650 [==============================] - 148s 6ms/sample - loss: 3.2317 - acc: 0.7195 - val_loss: 0.5804 - val_acc: 0.7271\n",
            "Epoch 2/10\n",
            "25650/25650 [==============================] - 139s 5ms/sample - loss: 0.5972 - acc: 0.7228 - val_loss: 0.5797 - val_acc: 0.7271\n",
            "Epoch 3/10\n",
            "25650/25650 [==============================] - 139s 5ms/sample - loss: 0.5824 - acc: 0.7235 - val_loss: 0.5778 - val_acc: 0.7273\n",
            "Epoch 4/10\n",
            "25650/25650 [==============================] - 140s 5ms/sample - loss: 0.5788 - acc: 0.7242 - val_loss: 0.5769 - val_acc: 0.7273\n",
            "Epoch 5/10\n",
            "25650/25650 [==============================] - 139s 5ms/sample - loss: 0.5801 - acc: 0.7239 - val_loss: 0.5755 - val_acc: 0.7276\n",
            "Epoch 6/10\n",
            "25650/25650 [==============================] - 140s 5ms/sample - loss: 0.5762 - acc: 0.7239 - val_loss: 0.5722 - val_acc: 0.7273\n",
            "Epoch 7/10\n",
            "25650/25650 [==============================] - 139s 5ms/sample - loss: 0.5742 - acc: 0.7264 - val_loss: 0.5771 - val_acc: 0.7281\n",
            "Epoch 8/10\n",
            "25650/25650 [==============================] - 139s 5ms/sample - loss: 0.5763 - acc: 0.7253 - val_loss: 0.5730 - val_acc: 0.7271\n",
            "Epoch 9/10\n",
            "25650/25650 [==============================] - 139s 5ms/sample - loss: 0.6276 - acc: 0.7236 - val_loss: 0.5848 - val_acc: 0.7271\n",
            "Epoch 10/10\n",
            "25650/25650 [==============================] - 139s 5ms/sample - loss: 0.5785 - acc: 0.7245 - val_loss: 0.5780 - val_acc: 0.7268\n"
          ],
          "name": "stdout"
        },
        {
          "output_type": "execute_result",
          "data": {
            "text/plain": [
              "<tensorflow.python.keras.callbacks.History at 0x7fc5ef126978>"
            ]
          },
          "metadata": {
            "tags": []
          },
          "execution_count": 9
        }
      ]
    },
    {
      "cell_type": "code",
      "metadata": {
        "id": "lkPTmCSkdOEX",
        "colab_type": "code",
        "outputId": "d40e8828-b734-4881-883e-6c10b9c1becb",
        "colab": {
          "base_uri": "https://localhost:8080/",
          "height": 52
        }
      },
      "source": [
        "scores = model.evaluate(testImages, y_test, verbose=0)\n",
        "print('Accuracy: {}% \\n Error: {}'.format(scores[1], 1 - scores[1])) "
      ],
      "execution_count": 10,
      "outputs": [
        {
          "output_type": "stream",
          "text": [
            "Accuracy: 0.7268049120903015% \n",
            " Error: 0.2731950879096985\n"
          ],
          "name": "stdout"
        }
      ]
    },
    {
      "cell_type": "code",
      "metadata": {
        "id": "x7GkOIoueMWf",
        "colab_type": "code",
        "outputId": "c33c6a94-2208-44fa-9441-690b731d3e25",
        "colab": {
          "base_uri": "https://localhost:8080/",
          "height": 52
        }
      },
      "source": [
        "from sklearn import metrics\n",
        "y_pred = model.predict(testImages)\n",
        "matrix = metrics.confusion_matrix(y_test.argmax(axis=1), y_pred.argmax(axis=1))\n",
        "matrix"
      ],
      "execution_count": 11,
      "outputs": [
        {
          "output_type": "execute_result",
          "data": {
            "text/plain": [
              "array([[4645,   19],\n",
              "       [1733,   16]])"
            ]
          },
          "metadata": {
            "tags": []
          },
          "execution_count": 11
        }
      ]
    },
    {
      "cell_type": "code",
      "metadata": {
        "id": "8HRPUBPgdVJH",
        "colab_type": "code",
        "outputId": "965d2e72-8933-4469-9ce8-3decfe5484a3",
        "colab": {
          "base_uri": "https://localhost:8080/",
          "height": 34
        }
      },
      "source": [
        "model.save(\"training_0x1_1.h5\")\n",
        "print(\"Saved model to disk\")"
      ],
      "execution_count": 12,
      "outputs": [
        {
          "output_type": "stream",
          "text": [
            "Saved model to disk\n"
          ],
          "name": "stdout"
        }
      ]
    },
    {
      "cell_type": "code",
      "metadata": {
        "id": "WaxrmD-ChGE8",
        "colab_type": "code",
        "colab": {}
      },
      "source": [
        ""
      ],
      "execution_count": 0,
      "outputs": []
    }
  ]
}
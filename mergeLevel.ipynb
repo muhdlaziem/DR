{
  "nbformat": 4,
  "nbformat_minor": 0,
  "metadata": {
    "colab": {
      "name": "mergeLevel.ipynb",
      "provenance": [],
      "machine_shape": "hm",
      "authorship_tag": "ABX9TyOtoPt8pvChkXSl4f+6QQIt",
      "include_colab_link": true
    },
    "kernelspec": {
      "name": "python3",
      "display_name": "Python 3"
    },
    "accelerator": "GPU"
  },
  "cells": [
    {
      "cell_type": "markdown",
      "metadata": {
        "id": "view-in-github",
        "colab_type": "text"
      },
      "source": [
        "<a href=\"https://colab.research.google.com/github/muhdlaziem/DR/blob/master/mergeLevel.ipynb\" target=\"_parent\"><img src=\"https://colab.research.google.com/assets/colab-badge.svg\" alt=\"Open In Colab\"/></a>"
      ]
    },
    {
      "cell_type": "code",
      "metadata": {
        "id": "vWxRy_uB54wo",
        "colab_type": "code",
        "outputId": "163c8bd5-2df8-4faf-f5c7-12ef39dd7d3d",
        "colab": {
          "base_uri": "https://localhost:8080/",
          "height": 52
        }
      },
      "source": [
        "from google.colab import drive\n",
        "drive.mount('/gdrive')\n",
        "%cd /gdrive"
      ],
      "execution_count": 22,
      "outputs": [
        {
          "output_type": "stream",
          "text": [
            "Drive already mounted at /gdrive; to attempt to forcibly remount, call drive.mount(\"/gdrive\", force_remount=True).\n",
            "/gdrive\n"
          ],
          "name": "stdout"
        }
      ]
    },
    {
      "cell_type": "code",
      "metadata": {
        "id": "OucZfQ946JOA",
        "colab_type": "code",
        "outputId": "b3962be5-790c-47a0-8d03-83fd8b3b767c",
        "colab": {
          "base_uri": "https://localhost:8080/",
          "height": 34
        }
      },
      "source": [
        "%cd 'My Drive'/diabetic-retinopathy-resized/"
      ],
      "execution_count": 23,
      "outputs": [
        {
          "output_type": "stream",
          "text": [
            "/gdrive/My Drive/diabetic-retinopathy-resized\n"
          ],
          "name": "stdout"
        }
      ]
    },
    {
      "cell_type": "code",
      "metadata": {
        "id": "_ZV77ziO6PGN",
        "colab_type": "code",
        "colab": {}
      },
      "source": [
        "import numpy as np\n",
        "import pandas as pd\n",
        "from sklearn.model_selection import train_test_split\n",
        "import cv2"
      ],
      "execution_count": 0,
      "outputs": []
    },
    {
      "cell_type": "code",
      "metadata": {
        "id": "o0p6w6c36RCM",
        "colab_type": "code",
        "colab": {}
      },
      "source": [
        "DR = pd.read_csv('trainLabels_cropped.csv')\n",
        "DR['image'] = DR['image'].apply(lambda x:'./resized_train_cropped/resized_train_cropped/' + x + '.jpeg')\n",
        "DR = DR.drop(['Unnamed: 0','Unnamed: 0.1'],axis=1)"
      ],
      "execution_count": 0,
      "outputs": []
    },
    {
      "cell_type": "code",
      "metadata": {
        "id": "-09uO0wU9DBF",
        "colab_type": "code",
        "colab": {
          "base_uri": "https://localhost:8080/",
          "height": 139
        },
        "outputId": "619e156b-dec3-4ec8-c63c-395ba2356945"
      },
      "source": [
        "DR.info()"
      ],
      "execution_count": 26,
      "outputs": [
        {
          "output_type": "stream",
          "text": [
            "<class 'pandas.core.frame.DataFrame'>\n",
            "RangeIndex: 35108 entries, 0 to 35107\n",
            "Data columns (total 2 columns):\n",
            "image    35108 non-null object\n",
            "level    35108 non-null int64\n",
            "dtypes: int64(1), object(1)\n",
            "memory usage: 548.7+ KB\n"
          ],
          "name": "stdout"
        }
      ]
    },
    {
      "cell_type": "code",
      "metadata": {
        "id": "VupcCTq06S7z",
        "colab_type": "code",
        "outputId": "5ccc7070-30e5-427d-be62-898c566cbb93",
        "colab": {
          "base_uri": "https://localhost:8080/",
          "height": 121
        }
      },
      "source": [
        "(DR['level'].value_counts())/len(DR)"
      ],
      "execution_count": 27,
      "outputs": [
        {
          "output_type": "execute_result",
          "data": {
            "text/plain": [
              "0    0.734932\n",
              "2    0.150621\n",
              "1    0.069443\n",
              "3    0.024838\n",
              "4    0.020166\n",
              "Name: level, dtype: float64"
            ]
          },
          "metadata": {
            "tags": []
          },
          "execution_count": 27
        }
      ]
    },
    {
      "cell_type": "code",
      "metadata": {
        "id": "yOqlv8K_6VMP",
        "colab_type": "code",
        "outputId": "839af4a2-ab91-4b52-a418-78f5cb49954a",
        "colab": {
          "base_uri": "https://localhost:8080/",
          "height": 86
        }
      },
      "source": [
        "DR['level(3)'] = DR['level']\n",
        "DR['level(3)'] = DR['level(3)'].replace({2:1})\n",
        "DR['level(3)'] = DR['level(3)'].replace({3:2})\n",
        "DR['level(3)'] = DR['level(3)'].replace({4:2})\n",
        "\n",
        "(DR['level(3)'].value_counts())/len(DR)"
      ],
      "execution_count": 28,
      "outputs": [
        {
          "output_type": "execute_result",
          "data": {
            "text/plain": [
              "0    0.734932\n",
              "1    0.220064\n",
              "2    0.045004\n",
              "Name: level(3), dtype: float64"
            ]
          },
          "metadata": {
            "tags": []
          },
          "execution_count": 28
        }
      ]
    },
    {
      "cell_type": "code",
      "metadata": {
        "id": "SfQz5LP36W-S",
        "colab_type": "code",
        "outputId": "cf819204-0fed-4d8e-8b84-cc1e5424a07b",
        "colab": {
          "base_uri": "https://localhost:8080/",
          "height": 69
        }
      },
      "source": [
        "DR['level(2)'] = DR['level']\n",
        "DR['level(2)'] = DR['level(2)'].replace({2:1})\n",
        "DR['level(2)'] = DR['level(2)'].replace({3:1})\n",
        "DR['level(2)'] = DR['level(2)'].replace({4:1})\n",
        "(DR['level(2)'].value_counts())/len(DR)"
      ],
      "execution_count": 29,
      "outputs": [
        {
          "output_type": "execute_result",
          "data": {
            "text/plain": [
              "0    0.734932\n",
              "1    0.265068\n",
              "Name: level(2), dtype: float64"
            ]
          },
          "metadata": {
            "tags": []
          },
          "execution_count": 29
        }
      ]
    },
    {
      "cell_type": "code",
      "metadata": {
        "id": "8K1It0Fe6ZHR",
        "colab_type": "code",
        "outputId": "e73ffd7a-78cb-4b28-c8ff-7e627fbb0424",
        "colab": {
          "base_uri": "https://localhost:8080/",
          "height": 206
        }
      },
      "source": [
        "DR.head()"
      ],
      "execution_count": 30,
      "outputs": [
        {
          "output_type": "execute_result",
          "data": {
            "text/html": [
              "<div>\n",
              "<style scoped>\n",
              "    .dataframe tbody tr th:only-of-type {\n",
              "        vertical-align: middle;\n",
              "    }\n",
              "\n",
              "    .dataframe tbody tr th {\n",
              "        vertical-align: top;\n",
              "    }\n",
              "\n",
              "    .dataframe thead th {\n",
              "        text-align: right;\n",
              "    }\n",
              "</style>\n",
              "<table border=\"1\" class=\"dataframe\">\n",
              "  <thead>\n",
              "    <tr style=\"text-align: right;\">\n",
              "      <th></th>\n",
              "      <th>image</th>\n",
              "      <th>level</th>\n",
              "      <th>level(3)</th>\n",
              "      <th>level(2)</th>\n",
              "    </tr>\n",
              "  </thead>\n",
              "  <tbody>\n",
              "    <tr>\n",
              "      <th>0</th>\n",
              "      <td>./resized_train_cropped/resized_train_cropped/...</td>\n",
              "      <td>0</td>\n",
              "      <td>0</td>\n",
              "      <td>0</td>\n",
              "    </tr>\n",
              "    <tr>\n",
              "      <th>1</th>\n",
              "      <td>./resized_train_cropped/resized_train_cropped/...</td>\n",
              "      <td>0</td>\n",
              "      <td>0</td>\n",
              "      <td>0</td>\n",
              "    </tr>\n",
              "    <tr>\n",
              "      <th>2</th>\n",
              "      <td>./resized_train_cropped/resized_train_cropped/...</td>\n",
              "      <td>0</td>\n",
              "      <td>0</td>\n",
              "      <td>0</td>\n",
              "    </tr>\n",
              "    <tr>\n",
              "      <th>3</th>\n",
              "      <td>./resized_train_cropped/resized_train_cropped/...</td>\n",
              "      <td>0</td>\n",
              "      <td>0</td>\n",
              "      <td>0</td>\n",
              "    </tr>\n",
              "    <tr>\n",
              "      <th>4</th>\n",
              "      <td>./resized_train_cropped/resized_train_cropped/...</td>\n",
              "      <td>1</td>\n",
              "      <td>1</td>\n",
              "      <td>1</td>\n",
              "    </tr>\n",
              "  </tbody>\n",
              "</table>\n",
              "</div>"
            ],
            "text/plain": [
              "                                               image  level  level(3)  level(2)\n",
              "0  ./resized_train_cropped/resized_train_cropped/...      0         0         0\n",
              "1  ./resized_train_cropped/resized_train_cropped/...      0         0         0\n",
              "2  ./resized_train_cropped/resized_train_cropped/...      0         0         0\n",
              "3  ./resized_train_cropped/resized_train_cropped/...      0         0         0\n",
              "4  ./resized_train_cropped/resized_train_cropped/...      1         1         1"
            ]
          },
          "metadata": {
            "tags": []
          },
          "execution_count": 30
        }
      ]
    },
    {
      "cell_type": "code",
      "metadata": {
        "id": "2CPYDnXs96VM",
        "colab_type": "code",
        "colab": {}
      },
      "source": [
        "# take index of each level\n",
        "level_0_idx = DR['level(3)']==0\n",
        "level_1_idx = DR['level(3)']==1\n",
        "level_2_idx = DR['level(3)']==2\n"
      ],
      "execution_count": 0,
      "outputs": []
    },
    {
      "cell_type": "code",
      "metadata": {
        "id": "o4ZjWk4b_qUq",
        "colab_type": "code",
        "colab": {
          "base_uri": "https://localhost:8080/",
          "height": 538
        },
        "outputId": "7583a8a2-eaa7-4a84-8d67-8efa1bc86b91"
      },
      "source": [
        "# form a dataframe\n",
        "level_0_df = DR[level_0_idx]\n",
        "level_1_df = DR[level_1_idx]\n",
        "level_2_df = DR[level_2_idx]\n",
        "\n",
        "print(level_0_df.info())\n",
        "print(level_1_df.info())\n",
        "print(level_2_df.info())"
      ],
      "execution_count": 32,
      "outputs": [
        {
          "output_type": "stream",
          "text": [
            "<class 'pandas.core.frame.DataFrame'>\n",
            "Int64Index: 25802 entries, 0 to 35106\n",
            "Data columns (total 4 columns):\n",
            "image       25802 non-null object\n",
            "level       25802 non-null int64\n",
            "level(3)    25802 non-null int64\n",
            "level(2)    25802 non-null int64\n",
            "dtypes: int64(3), object(1)\n",
            "memory usage: 1007.9+ KB\n",
            "None\n",
            "<class 'pandas.core.frame.DataFrame'>\n",
            "Int64Index: 7726 entries, 4 to 35107\n",
            "Data columns (total 4 columns):\n",
            "image       7726 non-null object\n",
            "level       7726 non-null int64\n",
            "level(3)    7726 non-null int64\n",
            "level(2)    7726 non-null int64\n",
            "dtypes: int64(3), object(1)\n",
            "memory usage: 301.8+ KB\n",
            "None\n",
            "<class 'pandas.core.frame.DataFrame'>\n",
            "Int64Index: 1580 entries, 6 to 35031\n",
            "Data columns (total 4 columns):\n",
            "image       1580 non-null object\n",
            "level       1580 non-null int64\n",
            "level(3)    1580 non-null int64\n",
            "level(2)    1580 non-null int64\n",
            "dtypes: int64(3), object(1)\n",
            "memory usage: 61.7+ KB\n",
            "None\n"
          ],
          "name": "stdout"
        }
      ]
    },
    {
      "cell_type": "code",
      "metadata": {
        "id": "BbQbrr_-BFkV",
        "colab_type": "code",
        "colab": {}
      },
      "source": [
        "#exclude 10% of level 0, 5% of level 1, and 5% of level 2\n",
        "level_0_sample = level_0_df.sample(frac=0.1)\n",
        "level_1_sample = level_1_df.sample(frac=0.05)\n",
        "level_2_sample = level_2_df.sample(frac=0.05)"
      ],
      "execution_count": 0,
      "outputs": []
    },
    {
      "cell_type": "code",
      "metadata": {
        "id": "HAw4Ua79OsXc",
        "colab_type": "code",
        "colab": {
          "base_uri": "https://localhost:8080/",
          "height": 173
        },
        "outputId": "bb928f46-2e8f-4074-8eed-64801afa9ec8"
      },
      "source": [
        "#drop sample indexes\n",
        "DR = DR.drop(level_0_sample.index)\n",
        "DR = DR.drop(level_1_sample.index)\n",
        "DR = DR.drop(level_2_sample.index)\n",
        "DR.info()"
      ],
      "execution_count": 34,
      "outputs": [
        {
          "output_type": "stream",
          "text": [
            "<class 'pandas.core.frame.DataFrame'>\n",
            "Int64Index: 32063 entries, 0 to 35107\n",
            "Data columns (total 4 columns):\n",
            "image       32063 non-null object\n",
            "level       32063 non-null int64\n",
            "level(3)    32063 non-null int64\n",
            "level(2)    32063 non-null int64\n",
            "dtypes: int64(3), object(1)\n",
            "memory usage: 1.2+ MB\n"
          ],
          "name": "stdout"
        }
      ]
    },
    {
      "cell_type": "code",
      "metadata": {
        "id": "EQVDwg6bPp0F",
        "colab_type": "code",
        "colab": {}
      },
      "source": [
        "# save sample\n",
        "level_0_sample.to_csv('level_0_sample.csv',index= False)\n",
        "level_1_sample.to_csv('level_1_sample.csv',index= False)\n",
        "level_2_sample.to_csv('level_2_sample.csv',index= False)"
      ],
      "execution_count": 0,
      "outputs": []
    },
    {
      "cell_type": "code",
      "metadata": {
        "id": "WcvK2sRgQREq",
        "colab_type": "code",
        "colab": {}
      },
      "source": [
        "# save sample\n",
        "DR.to_csv('omitValidationData.csv',index= False)"
      ],
      "execution_count": 0,
      "outputs": []
    },
    {
      "cell_type": "code",
      "metadata": {
        "id": "AjvjRBrk6bKL",
        "colab_type": "code",
        "colab": {}
      },
      "source": [
        "X_train_2, X_test_2, y_train_2, y_test_2 = train_test_split(DR['image'],DR['level(2)'],test_size=0.20, random_state=42)\n",
        "X_train_3, X_test_3, y_train_3, y_test_3 = train_test_split(DR['image'],DR['level(3)'],test_size=0.20, random_state=42)"
      ],
      "execution_count": 0,
      "outputs": []
    },
    {
      "cell_type": "code",
      "metadata": {
        "id": "5IwFPLLL6dNi",
        "colab_type": "code",
        "colab": {}
      },
      "source": [
        "def loadImage(df):\n",
        "    images = list()\n",
        "    for i in range(len(df)):\n",
        "            image_name = df.iloc[i]\n",
        "            # print(image_name)\n",
        "            img = cv2.imread(image_name)\n",
        "            res = cv2.resize(img, dsize=(256, 256), interpolation=cv2.INTER_CUBIC)\n",
        "            images.append(res)\n",
        "    return images"
      ],
      "execution_count": 0,
      "outputs": []
    },
    {
      "cell_type": "code",
      "metadata": {
        "id": "BVsBaWYe6e9Z",
        "colab_type": "code",
        "colab": {}
      },
      "source": [
        "trainImages_2 = loadImage(X_train_2)\n",
        "testImages_2 = loadImage(X_test_2)\n",
        "\n",
        "trainImages_2 = np.asarray(trainImages_2)\n",
        "testImages_2 = np.asarray(testImages_2)\n",
        "\n",
        "print(trainImages_2.shape)\n",
        "print(testImages_2.shape)\n",
        "\n",
        "y_train_2 = to_categorical(y_train_2)\n",
        "y_test_2 = to_categorical(y_test_2)\n",
        "np.save('trainImages_2.npy', trainImages_2)\n",
        "np.save('testImages_2.npy', testImages_2)\n",
        "np.save('y_train_2.npy', y_train_2)\n",
        "np.save('y_test_2.npy', y_test_2)\n"
      ],
      "execution_count": 0,
      "outputs": []
    },
    {
      "cell_type": "code",
      "metadata": {
        "id": "u5Oji-4U6jI_",
        "colab_type": "code",
        "colab": {}
      },
      "source": [
        "# X_train_2[0]"
      ],
      "execution_count": 0,
      "outputs": []
    },
    {
      "cell_type": "code",
      "metadata": {
        "id": "8UlPUKvr77AB",
        "colab_type": "code",
        "colab": {}
      },
      "source": [
        "# !ls"
      ],
      "execution_count": 0,
      "outputs": []
    },
    {
      "cell_type": "code",
      "metadata": {
        "id": "1AgK7IMfS-l7",
        "colab_type": "code",
        "colab": {}
      },
      "source": [
        "# img = cv2.imread(X_train_2[0])"
      ],
      "execution_count": 0,
      "outputs": []
    },
    {
      "cell_type": "code",
      "metadata": {
        "id": "q-X3R1WOTTSL",
        "colab_type": "code",
        "colab": {}
      },
      "source": [
        "# print(img.shape)"
      ],
      "execution_count": 0,
      "outputs": []
    },
    {
      "cell_type": "code",
      "metadata": {
        "id": "3wHEutliTmOG",
        "colab_type": "code",
        "colab": {}
      },
      "source": [
        "# cv2.resize(img, dsize=(256, 256), interpolation=cv2.INTER_CUBIC).shape"
      ],
      "execution_count": 0,
      "outputs": []
    },
    {
      "cell_type": "code",
      "metadata": {
        "id": "Obfw3Q47UX7l",
        "colab_type": "code",
        "colab": {}
      },
      "source": [
        ""
      ],
      "execution_count": 0,
      "outputs": []
    }
  ]
}
{
  "nbformat": 4,
  "nbformat_minor": 0,
  "metadata": {
    "colab": {
      "name": "mergeLevel.ipynb",
      "provenance": [],
      "machine_shape": "hm",
      "authorship_tag": "ABX9TyPAxpv/LZ9XZNi1+BOn+W/i",
      "include_colab_link": true
    },
    "kernelspec": {
      "name": "python3",
      "display_name": "Python 3"
    },
    "accelerator": "GPU"
  },
  "cells": [
    {
      "cell_type": "markdown",
      "metadata": {
        "id": "view-in-github",
        "colab_type": "text"
      },
      "source": [
        "<a href=\"https://colab.research.google.com/github/muhdlaziem/DR/blob/master/mergeLevel.ipynb\" target=\"_parent\"><img src=\"https://colab.research.google.com/assets/colab-badge.svg\" alt=\"Open In Colab\"/></a>"
      ]
    },
    {
      "cell_type": "code",
      "metadata": {
        "id": "vWxRy_uB54wo",
        "colab_type": "code",
        "outputId": "f1789dbc-29e4-44d3-f264-1bd79c112231",
        "colab": {
          "base_uri": "https://localhost:8080/",
          "height": 52
        }
      },
      "source": [
        "from google.colab import drive\n",
        "drive.mount('/gdrive')\n",
        "%cd /gdrive"
      ],
      "execution_count": 1,
      "outputs": [
        {
          "output_type": "stream",
          "text": [
            "Drive already mounted at /gdrive; to attempt to forcibly remount, call drive.mount(\"/gdrive\", force_remount=True).\n",
            "/gdrive\n"
          ],
          "name": "stdout"
        }
      ]
    },
    {
      "cell_type": "code",
      "metadata": {
        "id": "OucZfQ946JOA",
        "colab_type": "code",
        "outputId": "86444896-a18b-4629-f227-7ea578e4235a",
        "colab": {
          "base_uri": "https://localhost:8080/",
          "height": 34
        }
      },
      "source": [
        "%cd 'My Drive'/diabetic-retinopathy-resized/"
      ],
      "execution_count": 2,
      "outputs": [
        {
          "output_type": "stream",
          "text": [
            "/gdrive/My Drive/diabetic-retinopathy-resized\n"
          ],
          "name": "stdout"
        }
      ]
    },
    {
      "cell_type": "code",
      "metadata": {
        "id": "_ZV77ziO6PGN",
        "colab_type": "code",
        "colab": {}
      },
      "source": [
        "import numpy as np\n",
        "import pandas as pd"
      ],
      "execution_count": 0,
      "outputs": []
    },
    {
      "cell_type": "code",
      "metadata": {
        "id": "o0p6w6c36RCM",
        "colab_type": "code",
        "colab": {}
      },
      "source": [
        "DR = pd.read_csv('trainLabels_cropped.csv')\n",
        "DR['image'] = DR['image'].apply(lambda x:'./resized_train_cropped/resized_train_cropped/' + x + '.jpeg')\n",
        "DR = DR.drop(['Unnamed: 0','Unnamed: 0.1'],axis=1)"
      ],
      "execution_count": 0,
      "outputs": []
    },
    {
      "cell_type": "code",
      "metadata": {
        "id": "-09uO0wU9DBF",
        "colab_type": "code",
        "outputId": "ec7eacfe-5c0c-471c-8340-b5aebcb46403",
        "colab": {
          "base_uri": "https://localhost:8080/",
          "height": 139
        }
      },
      "source": [
        "DR.info()"
      ],
      "execution_count": 5,
      "outputs": [
        {
          "output_type": "stream",
          "text": [
            "<class 'pandas.core.frame.DataFrame'>\n",
            "RangeIndex: 35108 entries, 0 to 35107\n",
            "Data columns (total 2 columns):\n",
            "image    35108 non-null object\n",
            "level    35108 non-null int64\n",
            "dtypes: int64(1), object(1)\n",
            "memory usage: 548.7+ KB\n"
          ],
          "name": "stdout"
        }
      ]
    },
    {
      "cell_type": "code",
      "metadata": {
        "id": "VupcCTq06S7z",
        "colab_type": "code",
        "outputId": "b9ec3ec5-195b-45c2-cb86-185e74c5f428",
        "colab": {
          "base_uri": "https://localhost:8080/",
          "height": 121
        }
      },
      "source": [
        "(DR['level'].value_counts())/len(DR)"
      ],
      "execution_count": 6,
      "outputs": [
        {
          "output_type": "execute_result",
          "data": {
            "text/plain": [
              "0    0.734932\n",
              "2    0.150621\n",
              "1    0.069443\n",
              "3    0.024838\n",
              "4    0.020166\n",
              "Name: level, dtype: float64"
            ]
          },
          "metadata": {
            "tags": []
          },
          "execution_count": 6
        }
      ]
    },
    {
      "cell_type": "code",
      "metadata": {
        "id": "yOqlv8K_6VMP",
        "colab_type": "code",
        "outputId": "0036d849-10d2-42d5-8e9f-e6a460500465",
        "colab": {
          "base_uri": "https://localhost:8080/",
          "height": 86
        }
      },
      "source": [
        "DR['level(3)'] = DR['level']\n",
        "DR['level(3)'] = DR['level(3)'].replace({2:1})\n",
        "DR['level(3)'] = DR['level(3)'].replace({3:2})\n",
        "DR['level(3)'] = DR['level(3)'].replace({4:2})\n",
        "\n",
        "(DR['level(3)'].value_counts())/len(DR)"
      ],
      "execution_count": 7,
      "outputs": [
        {
          "output_type": "execute_result",
          "data": {
            "text/plain": [
              "0    0.734932\n",
              "1    0.220064\n",
              "2    0.045004\n",
              "Name: level(3), dtype: float64"
            ]
          },
          "metadata": {
            "tags": []
          },
          "execution_count": 7
        }
      ]
    },
    {
      "cell_type": "code",
      "metadata": {
        "id": "SfQz5LP36W-S",
        "colab_type": "code",
        "outputId": "34521e35-3809-4a2f-9328-212559a73c22",
        "colab": {
          "base_uri": "https://localhost:8080/",
          "height": 69
        }
      },
      "source": [
        "DR['level(2)'] = DR['level']\n",
        "DR['level(2)'] = DR['level(2)'].replace({2:1})\n",
        "DR['level(2)'] = DR['level(2)'].replace({3:1})\n",
        "DR['level(2)'] = DR['level(2)'].replace({4:1})\n",
        "(DR['level(2)'].value_counts())/len(DR)"
      ],
      "execution_count": 8,
      "outputs": [
        {
          "output_type": "execute_result",
          "data": {
            "text/plain": [
              "0    0.734932\n",
              "1    0.265068\n",
              "Name: level(2), dtype: float64"
            ]
          },
          "metadata": {
            "tags": []
          },
          "execution_count": 8
        }
      ]
    },
    {
      "cell_type": "code",
      "metadata": {
        "id": "8K1It0Fe6ZHR",
        "colab_type": "code",
        "outputId": "052f7a06-b8d1-4d27-db6b-1a2d7f2d15c5",
        "colab": {
          "base_uri": "https://localhost:8080/",
          "height": 206
        }
      },
      "source": [
        "DR.head()"
      ],
      "execution_count": 9,
      "outputs": [
        {
          "output_type": "execute_result",
          "data": {
            "text/html": [
              "<div>\n",
              "<style scoped>\n",
              "    .dataframe tbody tr th:only-of-type {\n",
              "        vertical-align: middle;\n",
              "    }\n",
              "\n",
              "    .dataframe tbody tr th {\n",
              "        vertical-align: top;\n",
              "    }\n",
              "\n",
              "    .dataframe thead th {\n",
              "        text-align: right;\n",
              "    }\n",
              "</style>\n",
              "<table border=\"1\" class=\"dataframe\">\n",
              "  <thead>\n",
              "    <tr style=\"text-align: right;\">\n",
              "      <th></th>\n",
              "      <th>image</th>\n",
              "      <th>level</th>\n",
              "      <th>level(3)</th>\n",
              "      <th>level(2)</th>\n",
              "    </tr>\n",
              "  </thead>\n",
              "  <tbody>\n",
              "    <tr>\n",
              "      <th>0</th>\n",
              "      <td>./resized_train_cropped/resized_train_cropped/...</td>\n",
              "      <td>0</td>\n",
              "      <td>0</td>\n",
              "      <td>0</td>\n",
              "    </tr>\n",
              "    <tr>\n",
              "      <th>1</th>\n",
              "      <td>./resized_train_cropped/resized_train_cropped/...</td>\n",
              "      <td>0</td>\n",
              "      <td>0</td>\n",
              "      <td>0</td>\n",
              "    </tr>\n",
              "    <tr>\n",
              "      <th>2</th>\n",
              "      <td>./resized_train_cropped/resized_train_cropped/...</td>\n",
              "      <td>0</td>\n",
              "      <td>0</td>\n",
              "      <td>0</td>\n",
              "    </tr>\n",
              "    <tr>\n",
              "      <th>3</th>\n",
              "      <td>./resized_train_cropped/resized_train_cropped/...</td>\n",
              "      <td>0</td>\n",
              "      <td>0</td>\n",
              "      <td>0</td>\n",
              "    </tr>\n",
              "    <tr>\n",
              "      <th>4</th>\n",
              "      <td>./resized_train_cropped/resized_train_cropped/...</td>\n",
              "      <td>1</td>\n",
              "      <td>1</td>\n",
              "      <td>1</td>\n",
              "    </tr>\n",
              "  </tbody>\n",
              "</table>\n",
              "</div>"
            ],
            "text/plain": [
              "                                               image  level  level(3)  level(2)\n",
              "0  ./resized_train_cropped/resized_train_cropped/...      0         0         0\n",
              "1  ./resized_train_cropped/resized_train_cropped/...      0         0         0\n",
              "2  ./resized_train_cropped/resized_train_cropped/...      0         0         0\n",
              "3  ./resized_train_cropped/resized_train_cropped/...      0         0         0\n",
              "4  ./resized_train_cropped/resized_train_cropped/...      1         1         1"
            ]
          },
          "metadata": {
            "tags": []
          },
          "execution_count": 9
        }
      ]
    },
    {
      "cell_type": "code",
      "metadata": {
        "id": "2CPYDnXs96VM",
        "colab_type": "code",
        "colab": {}
      },
      "source": [
        "# take index of each level\n",
        "level_0_idx = DR['level(3)']==0\n",
        "level_1_idx = DR['level(3)']==1\n",
        "level_2_idx = DR['level(3)']==2\n"
      ],
      "execution_count": 0,
      "outputs": []
    },
    {
      "cell_type": "code",
      "metadata": {
        "id": "o4ZjWk4b_qUq",
        "colab_type": "code",
        "outputId": "684e059e-fd3c-4305-9183-7601dfa433c4",
        "colab": {
          "base_uri": "https://localhost:8080/",
          "height": 538
        }
      },
      "source": [
        "# form a dataframe\n",
        "level_0_df = DR[level_0_idx]\n",
        "level_1_df = DR[level_1_idx]\n",
        "level_2_df = DR[level_2_idx]\n",
        "\n",
        "print(level_0_df.info())\n",
        "print(level_1_df.info())\n",
        "print(level_2_df.info())"
      ],
      "execution_count": 11,
      "outputs": [
        {
          "output_type": "stream",
          "text": [
            "<class 'pandas.core.frame.DataFrame'>\n",
            "Int64Index: 25802 entries, 0 to 35106\n",
            "Data columns (total 4 columns):\n",
            "image       25802 non-null object\n",
            "level       25802 non-null int64\n",
            "level(3)    25802 non-null int64\n",
            "level(2)    25802 non-null int64\n",
            "dtypes: int64(3), object(1)\n",
            "memory usage: 1007.9+ KB\n",
            "None\n",
            "<class 'pandas.core.frame.DataFrame'>\n",
            "Int64Index: 7726 entries, 4 to 35107\n",
            "Data columns (total 4 columns):\n",
            "image       7726 non-null object\n",
            "level       7726 non-null int64\n",
            "level(3)    7726 non-null int64\n",
            "level(2)    7726 non-null int64\n",
            "dtypes: int64(3), object(1)\n",
            "memory usage: 301.8+ KB\n",
            "None\n",
            "<class 'pandas.core.frame.DataFrame'>\n",
            "Int64Index: 1580 entries, 6 to 35031\n",
            "Data columns (total 4 columns):\n",
            "image       1580 non-null object\n",
            "level       1580 non-null int64\n",
            "level(3)    1580 non-null int64\n",
            "level(2)    1580 non-null int64\n",
            "dtypes: int64(3), object(1)\n",
            "memory usage: 61.7+ KB\n",
            "None\n"
          ],
          "name": "stdout"
        }
      ]
    },
    {
      "cell_type": "code",
      "metadata": {
        "id": "BbQbrr_-BFkV",
        "colab_type": "code",
        "colab": {}
      },
      "source": [
        "#exclude 10% of level 0, 5% of level 1, and 5% of level 2\n",
        "level_0_sample = level_0_df.sample(frac=0.1)\n",
        "level_1_sample = level_1_df.sample(frac=0.05)\n",
        "level_2_sample = level_2_df.sample(frac=0.05)"
      ],
      "execution_count": 0,
      "outputs": []
    },
    {
      "cell_type": "code",
      "metadata": {
        "id": "HAw4Ua79OsXc",
        "colab_type": "code",
        "outputId": "7f3609e0-548f-44f0-c80e-d602cbc1cdee",
        "colab": {
          "base_uri": "https://localhost:8080/",
          "height": 173
        }
      },
      "source": [
        "#drop sample indexes\n",
        "DR = DR.drop(level_0_sample.index)\n",
        "DR = DR.drop(level_1_sample.index)\n",
        "DR = DR.drop(level_2_sample.index)\n",
        "DR.info()"
      ],
      "execution_count": 13,
      "outputs": [
        {
          "output_type": "stream",
          "text": [
            "<class 'pandas.core.frame.DataFrame'>\n",
            "Int64Index: 32063 entries, 0 to 35107\n",
            "Data columns (total 4 columns):\n",
            "image       32063 non-null object\n",
            "level       32063 non-null int64\n",
            "level(3)    32063 non-null int64\n",
            "level(2)    32063 non-null int64\n",
            "dtypes: int64(3), object(1)\n",
            "memory usage: 1.2+ MB\n"
          ],
          "name": "stdout"
        }
      ]
    },
    {
      "cell_type": "code",
      "metadata": {
        "id": "EQVDwg6bPp0F",
        "colab_type": "code",
        "colab": {}
      },
      "source": [
        "# save sample\n",
        "level_0_sample.to_csv('level_0_sample.csv',index= False)\n",
        "level_1_sample.to_csv('level_1_sample.csv',index= False)\n",
        "level_2_sample.to_csv('level_2_sample.csv',index= False)"
      ],
      "execution_count": 0,
      "outputs": []
    },
    {
      "cell_type": "code",
      "metadata": {
        "id": "WcvK2sRgQREq",
        "colab_type": "code",
        "colab": {}
      },
      "source": [
        "# save sample\n",
        "DR.to_csv('omitValidationData_0_1.csv',index= False)\n",
        "\n",
        "#save for training\n",
        "level_0_idx = DR['level(3)']==0\n",
        "level_0_df = DR[level_0_idx]\n",
        "train_1_2 = DR.drop(level_0_df.index)\n",
        "train_1_2.to_csv('omitValidationData_1_2.csv',index= False)"
      ],
      "execution_count": 0,
      "outputs": []
    }
  ]
}
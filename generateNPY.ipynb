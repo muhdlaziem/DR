{
  "nbformat": 4,
  "nbformat_minor": 0,
  "metadata": {
    "accelerator": "GPU",
    "colab": {
      "name": "generateNPY.ipynb",
      "provenance": [],
      "machine_shape": "hm",
      "include_colab_link": true
    },
    "kernelspec": {
      "display_name": "Python 3",
      "language": "python",
      "name": "python3"
    },
    "language_info": {
      "codemirror_mode": {
        "name": "ipython",
        "version": 3
      },
      "file_extension": ".py",
      "mimetype": "text/x-python",
      "name": "python",
      "nbconvert_exporter": "python",
      "pygments_lexer": "ipython3",
      "version": "3.6.9"
    }
  },
  "cells": [
    {
      "cell_type": "markdown",
      "metadata": {
        "id": "view-in-github",
        "colab_type": "text"
      },
      "source": [
        "<a href=\"https://colab.research.google.com/github/muhdlaziem/DR/blob/master/generateNPY.ipynb\" target=\"_parent\"><img src=\"https://colab.research.google.com/assets/colab-badge.svg\" alt=\"Open In Colab\"/></a>"
      ]
    },
    {
      "cell_type": "code",
      "metadata": {
        "colab_type": "code",
        "id": "_wiYFeBRmxDb",
        "outputId": "65d9fa39-ae8d-46de-8bd8-95e48b3cf798",
        "colab": {
          "base_uri": "https://localhost:8080/",
          "height": 52
        }
      },
      "source": [
        "from google.colab import drive\n",
        "drive.mount('/gdrive')\n",
        "%cd /gdrive/'My Drive'/diabetic-retinopathy-resized/"
      ],
      "execution_count": 1,
      "outputs": [
        {
          "output_type": "stream",
          "text": [
            "Drive already mounted at /gdrive; to attempt to forcibly remount, call drive.mount(\"/gdrive\", force_remount=True).\n",
            "/gdrive/My Drive/diabetic-retinopathy-resized\n"
          ],
          "name": "stdout"
        }
      ]
    },
    {
      "cell_type": "code",
      "metadata": {
        "colab_type": "code",
        "id": "GVdE8SXvmtls",
        "colab": {}
      },
      "source": [
        "import numpy as np\n",
        "import pandas as pd\n",
        "from sklearn.model_selection import train_test_split\n",
        "import cv2"
      ],
      "execution_count": 0,
      "outputs": []
    },
    {
      "cell_type": "code",
      "metadata": {
        "colab_type": "code",
        "id": "o7qztqNjfexg",
        "colab": {}
      },
      "source": [
        "def loadImage(df):\n",
        "    images = list()\n",
        "    for i in range(len(df)):\n",
        "            image_name = df.iloc[i]\n",
        "            # print(image_name)\n",
        "            img = cv2.imread(image_name)\n",
        "            res = cv2.resize(img, dsize=(256, 256), interpolation=cv2.INTER_CUBIC)\n",
        "            images.append(res)\n",
        "    return images"
      ],
      "execution_count": 0,
      "outputs": []
    },
    {
      "cell_type": "code",
      "metadata": {
        "colab_type": "code",
        "id": "4fYafLBWmgp5",
        "outputId": "6b7cdcf2-b9db-4166-8921-84e819da7b43",
        "colab": {
          "base_uri": "https://localhost:8080/",
          "height": 206
        }
      },
      "source": [
        "firstTraining = pd.read_csv('omitValidationData_0_1.csv')\n",
        "firstTraining.head()"
      ],
      "execution_count": 0,
      "outputs": [
        {
          "output_type": "execute_result",
          "data": {
            "text/html": [
              "<div>\n",
              "<style scoped>\n",
              "    .dataframe tbody tr th:only-of-type {\n",
              "        vertical-align: middle;\n",
              "    }\n",
              "\n",
              "    .dataframe tbody tr th {\n",
              "        vertical-align: top;\n",
              "    }\n",
              "\n",
              "    .dataframe thead th {\n",
              "        text-align: right;\n",
              "    }\n",
              "</style>\n",
              "<table border=\"1\" class=\"dataframe\">\n",
              "  <thead>\n",
              "    <tr style=\"text-align: right;\">\n",
              "      <th></th>\n",
              "      <th>image</th>\n",
              "      <th>level</th>\n",
              "      <th>level(3)</th>\n",
              "      <th>level(2)</th>\n",
              "    </tr>\n",
              "  </thead>\n",
              "  <tbody>\n",
              "    <tr>\n",
              "      <th>0</th>\n",
              "      <td>./resized_train_cropped/resized_train_cropped/...</td>\n",
              "      <td>0</td>\n",
              "      <td>0</td>\n",
              "      <td>0</td>\n",
              "    </tr>\n",
              "    <tr>\n",
              "      <th>1</th>\n",
              "      <td>./resized_train_cropped/resized_train_cropped/...</td>\n",
              "      <td>0</td>\n",
              "      <td>0</td>\n",
              "      <td>0</td>\n",
              "    </tr>\n",
              "    <tr>\n",
              "      <th>2</th>\n",
              "      <td>./resized_train_cropped/resized_train_cropped/...</td>\n",
              "      <td>0</td>\n",
              "      <td>0</td>\n",
              "      <td>0</td>\n",
              "    </tr>\n",
              "    <tr>\n",
              "      <th>3</th>\n",
              "      <td>./resized_train_cropped/resized_train_cropped/...</td>\n",
              "      <td>0</td>\n",
              "      <td>0</td>\n",
              "      <td>0</td>\n",
              "    </tr>\n",
              "    <tr>\n",
              "      <th>4</th>\n",
              "      <td>./resized_train_cropped/resized_train_cropped/...</td>\n",
              "      <td>1</td>\n",
              "      <td>1</td>\n",
              "      <td>1</td>\n",
              "    </tr>\n",
              "  </tbody>\n",
              "</table>\n",
              "</div>"
            ],
            "text/plain": [
              "                                               image  level  level(3)  level(2)\n",
              "0  ./resized_train_cropped/resized_train_cropped/...      0         0         0\n",
              "1  ./resized_train_cropped/resized_train_cropped/...      0         0         0\n",
              "2  ./resized_train_cropped/resized_train_cropped/...      0         0         0\n",
              "3  ./resized_train_cropped/resized_train_cropped/...      0         0         0\n",
              "4  ./resized_train_cropped/resized_train_cropped/...      1         1         1"
            ]
          },
          "metadata": {
            "tags": []
          },
          "execution_count": 16
        }
      ]
    },
    {
      "cell_type": "code",
      "metadata": {
        "colab_type": "code",
        "id": "vO9ryERqnfv6",
        "outputId": "418c918e-cb4e-4bad-b7f6-544bbae7d5ea",
        "colab": {
          "base_uri": "https://localhost:8080/",
          "height": 173
        }
      },
      "source": [
        "firstTraining.info()"
      ],
      "execution_count": 0,
      "outputs": [
        {
          "output_type": "stream",
          "text": [
            "<class 'pandas.core.frame.DataFrame'>\n",
            "RangeIndex: 32063 entries, 0 to 32062\n",
            "Data columns (total 4 columns):\n",
            "image       32063 non-null object\n",
            "level       32063 non-null int64\n",
            "level(3)    32063 non-null int64\n",
            "level(2)    32063 non-null int64\n",
            "dtypes: int64(3), object(1)\n",
            "memory usage: 1002.1+ KB\n"
          ],
          "name": "stdout"
        }
      ]
    },
    {
      "cell_type": "code",
      "metadata": {
        "colab_type": "code",
        "id": "LJ0WHNg8n9it",
        "outputId": "9ca7f8c6-1bc6-4d4f-b62c-45159b549516",
        "colab": {
          "base_uri": "https://localhost:8080/",
          "height": 34
        }
      },
      "source": [
        "firstTraining['level(2)'].unique()"
      ],
      "execution_count": 0,
      "outputs": [
        {
          "output_type": "execute_result",
          "data": {
            "text/plain": [
              "array([0, 1])"
            ]
          },
          "metadata": {
            "tags": []
          },
          "execution_count": 18
        }
      ]
    },
    {
      "cell_type": "code",
      "metadata": {
        "colab_type": "code",
        "id": "nIdNRfi2fq-Z",
        "colab": {}
      },
      "source": [
        "X_train, X_test, y_train, y_test = train_test_split(firstTraining['image'],firstTraining['level(2)'],test_size=0.20, random_state=42)"
      ],
      "execution_count": 0,
      "outputs": []
    },
    {
      "cell_type": "code",
      "metadata": {
        "colab_type": "code",
        "id": "esm3fC0Jl4nI",
        "outputId": "5cc98446-c8ad-4d63-94e4-8de13c0872f0",
        "colab": {
          "base_uri": "https://localhost:8080/",
          "height": 52
        }
      },
      "source": [
        "trainImages = loadImage(X_train)\n",
        "testImages = loadImage(X_test)\n",
        "\n",
        "trainImages = np.asarray(trainImages)\n",
        "testImages = np.asarray(testImages)\n",
        "print(trainImages.shape)\n",
        "print(testImages.shape)"
      ],
      "execution_count": 0,
      "outputs": [
        {
          "output_type": "stream",
          "text": [
            "(25650, 256, 256, 3)\n",
            "(6413, 256, 256, 3)\n"
          ],
          "name": "stdout"
        }
      ]
    },
    {
      "cell_type": "code",
      "metadata": {
        "colab_type": "code",
        "id": "mYX9Twk14H1H",
        "outputId": "ec2d1c15-a288-4eda-ab64-7f0dca28e352",
        "colab": {
          "base_uri": "https://localhost:8080/",
          "height": 81
        }
      },
      "source": [
        "from keras.utils import to_categorical\n",
        "y_train = to_categorical(y_train)\n",
        "y_test = to_categorical(y_test)\n",
        "np.save('./0x1/trainImages.npy', trainImages)\n",
        "np.save('./0x1/testImages.npy', testImages)\n",
        "np.save('./0x1/y_train.npy', y_train)\n",
        "np.save('./0x1/y_test.npy', y_test)"
      ],
      "execution_count": 0,
      "outputs": [
        {
          "output_type": "stream",
          "text": [
            "Using TensorFlow backend.\n"
          ],
          "name": "stderr"
        },
        {
          "output_type": "display_data",
          "data": {
            "text/html": [
              "<p style=\"color: red;\">\n",
              "The default version of TensorFlow in Colab will soon switch to TensorFlow 2.x.<br>\n",
              "We recommend you <a href=\"https://www.tensorflow.org/guide/migrate\" target=\"_blank\">upgrade</a> now \n",
              "or ensure your notebook will continue to use TensorFlow 1.x via the <code>%tensorflow_version 1.x</code> magic:\n",
              "<a href=\"https://colab.research.google.com/notebooks/tensorflow_version.ipynb\" target=\"_blank\">more info</a>.</p>\n"
            ],
            "text/plain": [
              "<IPython.core.display.HTML object>"
            ]
          },
          "metadata": {
            "tags": []
          }
        }
      ]
    },
    {
      "cell_type": "code",
      "metadata": {
        "colab_type": "code",
        "id": "2zZmwAG7qirL",
        "outputId": "8ae39fb5-0a52-411d-d19e-5649c08e9e2a",
        "colab": {
          "base_uri": "https://localhost:8080/",
          "height": 86
        }
      },
      "source": [
        "print(trainImages.shape)\n",
        "print(y_train.shape)\n",
        "print(testImages.shape)\n",
        "print(y_test.shape)"
      ],
      "execution_count": 0,
      "outputs": [
        {
          "output_type": "stream",
          "text": [
            "(25650, 256, 256, 3)\n",
            "(25650, 2)\n",
            "(6413, 256, 256, 3)\n",
            "(6413, 2)\n"
          ],
          "name": "stdout"
        }
      ]
    },
    {
      "cell_type": "markdown",
      "metadata": {
        "colab_type": "text",
        "id": "XVHhiRbB9qRA"
      },
      "source": [
        "**Second Training**\n"
      ]
    },
    {
      "cell_type": "code",
      "metadata": {
        "colab_type": "code",
        "id": "Xh_xbSLy9SV1",
        "outputId": "9d476146-2720-48f8-fb14-aa6b9a5e6cd6",
        "colab": {
          "base_uri": "https://localhost:8080/",
          "height": 206
        }
      },
      "source": [
        "secondTraining = pd.read_csv('omitValidationData_1_2.csv')\n",
        "secondTraining.head()"
      ],
      "execution_count": 4,
      "outputs": [
        {
          "output_type": "execute_result",
          "data": {
            "text/html": [
              "<div>\n",
              "<style scoped>\n",
              "    .dataframe tbody tr th:only-of-type {\n",
              "        vertical-align: middle;\n",
              "    }\n",
              "\n",
              "    .dataframe tbody tr th {\n",
              "        vertical-align: top;\n",
              "    }\n",
              "\n",
              "    .dataframe thead th {\n",
              "        text-align: right;\n",
              "    }\n",
              "</style>\n",
              "<table border=\"1\" class=\"dataframe\">\n",
              "  <thead>\n",
              "    <tr style=\"text-align: right;\">\n",
              "      <th></th>\n",
              "      <th>image</th>\n",
              "      <th>level</th>\n",
              "      <th>level(3)</th>\n",
              "      <th>level(2)</th>\n",
              "    </tr>\n",
              "  </thead>\n",
              "  <tbody>\n",
              "    <tr>\n",
              "      <th>0</th>\n",
              "      <td>./resized_train_cropped/resized_train_cropped/...</td>\n",
              "      <td>1</td>\n",
              "      <td>1</td>\n",
              "      <td>1</td>\n",
              "    </tr>\n",
              "    <tr>\n",
              "      <th>1</th>\n",
              "      <td>./resized_train_cropped/resized_train_cropped/...</td>\n",
              "      <td>2</td>\n",
              "      <td>1</td>\n",
              "      <td>1</td>\n",
              "    </tr>\n",
              "    <tr>\n",
              "      <th>2</th>\n",
              "      <td>./resized_train_cropped/resized_train_cropped/...</td>\n",
              "      <td>4</td>\n",
              "      <td>2</td>\n",
              "      <td>1</td>\n",
              "    </tr>\n",
              "    <tr>\n",
              "      <th>3</th>\n",
              "      <td>./resized_train_cropped/resized_train_cropped/...</td>\n",
              "      <td>4</td>\n",
              "      <td>2</td>\n",
              "      <td>1</td>\n",
              "    </tr>\n",
              "    <tr>\n",
              "      <th>4</th>\n",
              "      <td>./resized_train_cropped/resized_train_cropped/...</td>\n",
              "      <td>1</td>\n",
              "      <td>1</td>\n",
              "      <td>1</td>\n",
              "    </tr>\n",
              "  </tbody>\n",
              "</table>\n",
              "</div>"
            ],
            "text/plain": [
              "                                               image  level  level(3)  level(2)\n",
              "0  ./resized_train_cropped/resized_train_cropped/...      1         1         1\n",
              "1  ./resized_train_cropped/resized_train_cropped/...      2         1         1\n",
              "2  ./resized_train_cropped/resized_train_cropped/...      4         2         1\n",
              "3  ./resized_train_cropped/resized_train_cropped/...      4         2         1\n",
              "4  ./resized_train_cropped/resized_train_cropped/...      1         1         1"
            ]
          },
          "metadata": {
            "tags": []
          },
          "execution_count": 4
        }
      ]
    },
    {
      "cell_type": "code",
      "metadata": {
        "colab_type": "code",
        "id": "WKLqvlLh-BMY",
        "outputId": "67c6927b-2715-400b-8870-92552b30230b",
        "colab": {
          "base_uri": "https://localhost:8080/",
          "height": 173
        }
      },
      "source": [
        "secondTraining.info()"
      ],
      "execution_count": 5,
      "outputs": [
        {
          "output_type": "stream",
          "text": [
            "<class 'pandas.core.frame.DataFrame'>\n",
            "RangeIndex: 8841 entries, 0 to 8840\n",
            "Data columns (total 4 columns):\n",
            "image       8841 non-null object\n",
            "level       8841 non-null int64\n",
            "level(3)    8841 non-null int64\n",
            "level(2)    8841 non-null int64\n",
            "dtypes: int64(3), object(1)\n",
            "memory usage: 276.4+ KB\n"
          ],
          "name": "stdout"
        }
      ]
    },
    {
      "cell_type": "code",
      "metadata": {
        "id": "NlLDRhV9zXu9",
        "colab_type": "code",
        "colab": {
          "base_uri": "https://localhost:8080/",
          "height": 69
        },
        "outputId": "ff6e656b-b050-4ba9-f1e7-a5c0815948a6"
      },
      "source": [
        "secondTraining['level(3)'].value_counts()"
      ],
      "execution_count": 6,
      "outputs": [
        {
          "output_type": "execute_result",
          "data": {
            "text/plain": [
              "1    7340\n",
              "2    1501\n",
              "Name: level(3), dtype: int64"
            ]
          },
          "metadata": {
            "tags": []
          },
          "execution_count": 6
        }
      ]
    },
    {
      "cell_type": "code",
      "metadata": {
        "id": "uA6CXrcuzioH",
        "colab_type": "code",
        "colab": {
          "base_uri": "https://localhost:8080/",
          "height": 69
        },
        "outputId": "2553c2a2-14b6-4e5e-a82e-56bee15d6766"
      },
      "source": [
        "secondTraining['level(3)'] = secondTraining['level(3)'].replace({1:0})\n",
        "secondTraining['level(3)'] = secondTraining['level(3)'].replace({2:1})\n",
        "secondTraining['level(3)'].value_counts()"
      ],
      "execution_count": 7,
      "outputs": [
        {
          "output_type": "execute_result",
          "data": {
            "text/plain": [
              "0    7340\n",
              "1    1501\n",
              "Name: level(3), dtype: int64"
            ]
          },
          "metadata": {
            "tags": []
          },
          "execution_count": 7
        }
      ]
    },
    {
      "cell_type": "code",
      "metadata": {
        "colab_type": "code",
        "id": "JdSxpdbs5lpm",
        "colab": {}
      },
      "source": [
        "X_train, X_test, y_train, y_test = train_test_split(secondTraining['image'],secondTraining['level(3)'],test_size=0.20, random_state=42)"
      ],
      "execution_count": 0,
      "outputs": []
    },
    {
      "cell_type": "code",
      "metadata": {
        "colab_type": "code",
        "id": "GfdUDH0r5rA7",
        "outputId": "9ef32192-7872-4579-b44f-758272320db2",
        "colab": {
          "base_uri": "https://localhost:8080/",
          "height": 52
        }
      },
      "source": [
        "trainImages = loadImage(X_train)\n",
        "testImages = loadImage(X_test)\n",
        "\n",
        "trainImages = np.asarray(trainImages)\n",
        "testImages = np.asarray(testImages)\n",
        "print(trainImages.shape)\n",
        "print(testImages.shape)"
      ],
      "execution_count": 9,
      "outputs": [
        {
          "output_type": "stream",
          "text": [
            "(7072, 256, 256, 3)\n",
            "(1769, 256, 256, 3)\n"
          ],
          "name": "stdout"
        }
      ]
    },
    {
      "cell_type": "code",
      "metadata": {
        "colab_type": "code",
        "id": "nFk2GvyA7jM3",
        "colab": {
          "base_uri": "https://localhost:8080/",
          "height": 81
        },
        "outputId": "44779302-0049-4b5f-cfeb-e3ec861a9586"
      },
      "source": [
        "from keras.utils import to_categorical\n",
        "y_train = to_categorical(y_train)\n",
        "y_test = to_categorical(y_test)\n",
        "np.save('./1x2/trainImages.npy', trainImages)\n",
        "np.save('./1x2/testImages.npy', testImages)\n",
        "np.save('./1x2/y_train.npy', y_train)\n",
        "np.save('./1x2/y_test.npy', y_test)"
      ],
      "execution_count": 10,
      "outputs": [
        {
          "output_type": "stream",
          "text": [
            "Using TensorFlow backend.\n"
          ],
          "name": "stderr"
        },
        {
          "output_type": "display_data",
          "data": {
            "text/html": [
              "<p style=\"color: red;\">\n",
              "The default version of TensorFlow in Colab will soon switch to TensorFlow 2.x.<br>\n",
              "We recommend you <a href=\"https://www.tensorflow.org/guide/migrate\" target=\"_blank\">upgrade</a> now \n",
              "or ensure your notebook will continue to use TensorFlow 1.x via the <code>%tensorflow_version 1.x</code> magic:\n",
              "<a href=\"https://colab.research.google.com/notebooks/tensorflow_version.ipynb\" target=\"_blank\">more info</a>.</p>\n"
            ],
            "text/plain": [
              "<IPython.core.display.HTML object>"
            ]
          },
          "metadata": {
            "tags": []
          }
        }
      ]
    },
    {
      "cell_type": "code",
      "metadata": {
        "colab_type": "code",
        "id": "5hIDabhi97Q8",
        "outputId": "eacb7197-aa85-40b0-c15d-149bfeb644a8",
        "colab": {
          "base_uri": "https://localhost:8080/",
          "height": 86
        }
      },
      "source": [
        "print(trainImages.shape)\n",
        "print(y_train.shape)\n",
        "print(testImages.shape)\n",
        "print(y_test.shape)"
      ],
      "execution_count": 11,
      "outputs": [
        {
          "output_type": "stream",
          "text": [
            "(7072, 256, 256, 3)\n",
            "(7072, 2)\n",
            "(1769, 256, 256, 3)\n",
            "(1769, 2)\n"
          ],
          "name": "stdout"
        }
      ]
    },
    {
      "cell_type": "code",
      "metadata": {
        "colab_type": "code",
        "id": "uhW6hRjK9uM6",
        "colab": {}
      },
      "source": [
        "# img = cv2.imread(X_train.iloc[0])\n",
        "# res = cv2.resize(img, dsize=(256, 256), interpolation=cv2.INTER_CUBIC)\n",
        "# img"
      ],
      "execution_count": 0,
      "outputs": []
    }
  ]
}